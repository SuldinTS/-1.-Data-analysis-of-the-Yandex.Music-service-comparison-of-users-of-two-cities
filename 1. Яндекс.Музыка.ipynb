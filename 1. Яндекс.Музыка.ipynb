{
 "cells": [
  {
   "cell_type": "markdown",
   "metadata": {
    "id": "E0vqbgi9ay0H"
   },
   "source": [
    "# Яндекс.Музыка"
   ]
  },
  {
   "cell_type": "markdown",
   "metadata": {
    "id": "VUC88oWjTJw2"
   },
   "source": [
    "Сравнение Москвы и Петербурга окружено мифами. Например:\n",
    " * Москва — мегаполис, подчинённый жёсткому ритму рабочей недели;\n",
    " * Петербург — культурная столица, со своими вкусами.\n",
    "\n",
    "На данных Яндекс.Музыки вы сравните поведение пользователей двух столиц.\n",
    "\n",
    "**Цель исследования** — проверьте три гипотезы:\n",
    "1. Активность пользователей зависит от дня недели. Причём в Москве и Петербурге это проявляется по-разному.\n",
    "2. В понедельник утром в Москве преобладают одни жанры, а в Петербурге — другие. Так же и вечером пятницы преобладают разные жанры — в зависимости от города. \n",
    "3. Москва и Петербург предпочитают разные жанры музыки. В Москве чаще слушают поп-музыку, в Петербурге — русский рэп.\n",
    "\n",
    "**Ход исследования**\n",
    "\n",
    "Данные о поведении пользователей вы получите из файла `yandex_music_project.csv`. О качестве данных ничего не известно. Поэтому перед проверкой гипотез понадобится обзор данных. \n",
    "\n",
    "Вы проверите данные на ошибки и оцените их влияние на исследование. Затем, на этапе предобработки вы поищете возможность исправить самые критичные ошибки данных.\n",
    " \n",
    "Таким образом, исследование пройдёт в три этапа:\n",
    " 1. Обзор данных.\n",
    " 2. Предобработка данных.\n",
    " 3. Проверка гипотез.\n",
    "\n"
   ]
  },
  {
   "cell_type": "markdown",
   "metadata": {
    "id": "Ml1hmfXC_Zcs"
   },
   "source": [
    "## Обзор данных\n",
    "\n",
    "Составьте первое представление о данных Яндекс.Музыки.\n",
    "\n",
    "\n"
   ]
  },
  {
   "cell_type": "markdown",
   "metadata": {
    "id": "57eAOGIz_Zcs"
   },
   "source": [
    "Основной инструмент аналитика — `pandas`. Импортируйте эту библиотеку."
   ]
  },
  {
   "cell_type": "code",
   "execution_count": 1,
   "metadata": {
    "id": "AXN7PHPN_Zcs"
   },
   "outputs": [],
   "source": [
    "import pandas as pd"
   ]
  },
  {
   "cell_type": "code",
   "execution_count": 2,
   "metadata": {
    "id": "fFVu7vqh_Zct"
   },
   "outputs": [],
   "source": [
    "df = pd.read_csv('/datasets/yandex_music_project.csv')"
   ]
  },
  {
   "cell_type": "code",
   "execution_count": 3,
   "metadata": {
    "id": "oWTVX3gW_Zct"
   },
   "outputs": [
    {
     "data": {
      "text/html": [
       "<div>\n",
       "<style scoped>\n",
       "    .dataframe tbody tr th:only-of-type {\n",
       "        vertical-align: middle;\n",
       "    }\n",
       "\n",
       "    .dataframe tbody tr th {\n",
       "        vertical-align: top;\n",
       "    }\n",
       "\n",
       "    .dataframe thead th {\n",
       "        text-align: right;\n",
       "    }\n",
       "</style>\n",
       "<table border=\"1\" class=\"dataframe\">\n",
       "  <thead>\n",
       "    <tr style=\"text-align: right;\">\n",
       "      <th></th>\n",
       "      <th>userID</th>\n",
       "      <th>Track</th>\n",
       "      <th>artist</th>\n",
       "      <th>genre</th>\n",
       "      <th>City</th>\n",
       "      <th>time</th>\n",
       "      <th>Day</th>\n",
       "    </tr>\n",
       "  </thead>\n",
       "  <tbody>\n",
       "    <tr>\n",
       "      <td>0</td>\n",
       "      <td>FFB692EC</td>\n",
       "      <td>Kamigata To Boots</td>\n",
       "      <td>The Mass Missile</td>\n",
       "      <td>rock</td>\n",
       "      <td>Saint-Petersburg</td>\n",
       "      <td>20:28:33</td>\n",
       "      <td>Wednesday</td>\n",
       "    </tr>\n",
       "    <tr>\n",
       "      <td>1</td>\n",
       "      <td>55204538</td>\n",
       "      <td>Delayed Because of Accident</td>\n",
       "      <td>Andreas Rönnberg</td>\n",
       "      <td>rock</td>\n",
       "      <td>Moscow</td>\n",
       "      <td>14:07:09</td>\n",
       "      <td>Friday</td>\n",
       "    </tr>\n",
       "    <tr>\n",
       "      <td>2</td>\n",
       "      <td>20EC38</td>\n",
       "      <td>Funiculì funiculà</td>\n",
       "      <td>Mario Lanza</td>\n",
       "      <td>pop</td>\n",
       "      <td>Saint-Petersburg</td>\n",
       "      <td>20:58:07</td>\n",
       "      <td>Wednesday</td>\n",
       "    </tr>\n",
       "    <tr>\n",
       "      <td>3</td>\n",
       "      <td>A3DD03C9</td>\n",
       "      <td>Dragons in the Sunset</td>\n",
       "      <td>Fire + Ice</td>\n",
       "      <td>folk</td>\n",
       "      <td>Saint-Petersburg</td>\n",
       "      <td>08:37:09</td>\n",
       "      <td>Monday</td>\n",
       "    </tr>\n",
       "    <tr>\n",
       "      <td>4</td>\n",
       "      <td>E2DC1FAE</td>\n",
       "      <td>Soul People</td>\n",
       "      <td>Space Echo</td>\n",
       "      <td>dance</td>\n",
       "      <td>Moscow</td>\n",
       "      <td>08:34:34</td>\n",
       "      <td>Monday</td>\n",
       "    </tr>\n",
       "    <tr>\n",
       "      <td>5</td>\n",
       "      <td>842029A1</td>\n",
       "      <td>Преданная</td>\n",
       "      <td>IMPERVTOR</td>\n",
       "      <td>rusrap</td>\n",
       "      <td>Saint-Petersburg</td>\n",
       "      <td>13:09:41</td>\n",
       "      <td>Friday</td>\n",
       "    </tr>\n",
       "    <tr>\n",
       "      <td>6</td>\n",
       "      <td>4CB90AA5</td>\n",
       "      <td>True</td>\n",
       "      <td>Roman Messer</td>\n",
       "      <td>dance</td>\n",
       "      <td>Moscow</td>\n",
       "      <td>13:00:07</td>\n",
       "      <td>Wednesday</td>\n",
       "    </tr>\n",
       "    <tr>\n",
       "      <td>7</td>\n",
       "      <td>F03E1C1F</td>\n",
       "      <td>Feeling This Way</td>\n",
       "      <td>Polina Griffith</td>\n",
       "      <td>dance</td>\n",
       "      <td>Moscow</td>\n",
       "      <td>20:47:49</td>\n",
       "      <td>Wednesday</td>\n",
       "    </tr>\n",
       "    <tr>\n",
       "      <td>8</td>\n",
       "      <td>8FA1D3BE</td>\n",
       "      <td>И вновь продолжается бой</td>\n",
       "      <td>NaN</td>\n",
       "      <td>ruspop</td>\n",
       "      <td>Moscow</td>\n",
       "      <td>09:17:40</td>\n",
       "      <td>Friday</td>\n",
       "    </tr>\n",
       "    <tr>\n",
       "      <td>9</td>\n",
       "      <td>E772D5C0</td>\n",
       "      <td>Pessimist</td>\n",
       "      <td>NaN</td>\n",
       "      <td>dance</td>\n",
       "      <td>Saint-Petersburg</td>\n",
       "      <td>21:20:49</td>\n",
       "      <td>Wednesday</td>\n",
       "    </tr>\n",
       "  </tbody>\n",
       "</table>\n",
       "</div>"
      ],
      "text/plain": [
       "     userID                        Track            artist   genre  \\\n",
       "0  FFB692EC            Kamigata To Boots  The Mass Missile    rock   \n",
       "1  55204538  Delayed Because of Accident  Andreas Rönnberg    rock   \n",
       "2    20EC38            Funiculì funiculà       Mario Lanza     pop   \n",
       "3  A3DD03C9        Dragons in the Sunset        Fire + Ice    folk   \n",
       "4  E2DC1FAE                  Soul People        Space Echo   dance   \n",
       "5  842029A1                    Преданная         IMPERVTOR  rusrap   \n",
       "6  4CB90AA5                         True      Roman Messer   dance   \n",
       "7  F03E1C1F             Feeling This Way   Polina Griffith   dance   \n",
       "8  8FA1D3BE     И вновь продолжается бой               NaN  ruspop   \n",
       "9  E772D5C0                    Pessimist               NaN   dance   \n",
       "\n",
       "             City        time        Day  \n",
       "0  Saint-Petersburg  20:28:33  Wednesday  \n",
       "1            Moscow  14:07:09     Friday  \n",
       "2  Saint-Petersburg  20:58:07  Wednesday  \n",
       "3  Saint-Petersburg  08:37:09     Monday  \n",
       "4            Moscow  08:34:34     Monday  \n",
       "5  Saint-Petersburg  13:09:41     Friday  \n",
       "6            Moscow  13:00:07  Wednesday  \n",
       "7            Moscow  20:47:49  Wednesday  \n",
       "8            Moscow  09:17:40     Friday  \n",
       "9  Saint-Petersburg  21:20:49  Wednesday  "
      ]
     },
     "execution_count": 3,
     "metadata": {},
     "output_type": "execute_result"
    }
   ],
   "source": [
    "df.head(10)"
   ]
  },
  {
   "cell_type": "code",
   "execution_count": 4,
   "metadata": {
    "id": "DSf2kIb-_Zct"
   },
   "outputs": [
    {
     "name": "stdout",
     "output_type": "stream",
     "text": [
      "<class 'pandas.core.frame.DataFrame'>\n",
      "RangeIndex: 65079 entries, 0 to 65078\n",
      "Data columns (total 7 columns):\n",
      "  userID    65079 non-null object\n",
      "Track       63848 non-null object\n",
      "artist      57876 non-null object\n",
      "genre       63881 non-null object\n",
      "  City      65079 non-null object\n",
      "time        65079 non-null object\n",
      "Day         65079 non-null object\n",
      "dtypes: object(7)\n",
      "memory usage: 3.5+ MB\n"
     ]
    }
   ],
   "source": [
    "df.info()"
   ]
  },
  {
   "cell_type": "markdown",
   "metadata": {
    "id": "TaQ2Iwbr_Zct"
   },
   "source": [
    "Итак, в таблице семь столбцов. Тип данных во всех столбцах — `object`.\n",
    "\n",
    "Согласно документации к данным:\n",
    "* `userID` — идентификатор пользователя;\n",
    "* `Track` — название трека;  \n",
    "* `artist` — имя исполнителя;\n",
    "* `genre` — название жанра;\n",
    "* `City` — город пользователя;\n",
    "* `time` — время начала прослушивания;\n",
    "* `Day` — день недели.\n",
    "\n",
    "В названиях колонок видны три нарушения стиля:\n",
    "1. Строчные буквы сочетаются с прописными.\n",
    "2. Встречаются пробелы.\n",
    "3. Не используется \"Змеиный регистр\"\n",
    "\n",
    "\n",
    "\n",
    "Количество значений в столбцах различается. Значит, в данных есть пропущенные значения.\n"
   ]
  },
  {
   "cell_type": "markdown",
   "metadata": {
    "id": "MCB6-dXG_Zct"
   },
   "source": [
    "**Выводы**\n",
    "\n",
    "В каждой строке таблицы — данные о прослушанном треке. Часть колонок описывает саму композицию: название, исполнителя и жанр. Остальные данные рассказывают о пользователе: из какого он города, когда он слушал музыку. \n",
    "\n",
    "Предварительно можно утверждать, что, данных достаточно для проверки гипотез. Но встречаются пропуски в данных, а в названиях колонок — расхождения с хорошим стилем.\n",
    "\n",
    "Чтобы двигаться дальше, нужно устранить проблемы в данных."
   ]
  },
  {
   "cell_type": "markdown",
   "metadata": {
    "id": "SjYF6Ub9_Zct"
   },
   "source": [
    "## Предобработка данных\n",
    "Исправьте стиль в заголовках столбцов, исключите пропуски. Затем проверьте данные на дубликаты."
   ]
  },
  {
   "cell_type": "markdown",
   "metadata": {
    "id": "dIaKXr29_Zct"
   },
   "source": [
    "### Стиль заголовков"
   ]
  },
  {
   "cell_type": "code",
   "execution_count": 5,
   "metadata": {
    "id": "oKOTdF_Q_Zct"
   },
   "outputs": [
    {
     "data": {
      "text/plain": [
       "Index(['  userID', 'Track', 'artist', 'genre', '  City  ', 'time', 'Day'], dtype='object')"
      ]
     },
     "execution_count": 5,
     "metadata": {},
     "output_type": "execute_result"
    }
   ],
   "source": [
    "df.columns"
   ]
  },
  {
   "cell_type": "code",
   "execution_count": 6,
   "metadata": {
    "id": "ISlFqs5y_Zct"
   },
   "outputs": [],
   "source": [
    "# переименование столбцов\n",
    "df=df.rename(columns={'  userID':'user_id','Track':'track','  City  ':'city','Day':'day'})"
   ]
  },
  {
   "cell_type": "code",
   "execution_count": 7,
   "metadata": {
    "id": "d4NOAmTW_Zct"
   },
   "outputs": [
    {
     "data": {
      "text/plain": [
       "Index(['user_id', 'track', 'artist', 'genre', 'city', 'time', 'day'], dtype='object')"
      ]
     },
     "execution_count": 7,
     "metadata": {},
     "output_type": "execute_result"
    }
   ],
   "source": [
    "# перечень названий столбцов\n",
    "df.columns"
   ]
  },
  {
   "cell_type": "markdown",
   "metadata": {
    "id": "5ISfbcfY_Zct"
   },
   "source": [
    "### Пропуски значений"
   ]
  },
  {
   "cell_type": "code",
   "execution_count": 8,
   "metadata": {
    "id": "RskX29qr_Zct"
   },
   "outputs": [
    {
     "data": {
      "text/plain": [
       "user_id       0\n",
       "track      1231\n",
       "artist     7203\n",
       "genre      1198\n",
       "city          0\n",
       "time          0\n",
       "day           0\n",
       "dtype: int64"
      ]
     },
     "execution_count": 8,
     "metadata": {},
     "output_type": "execute_result"
    }
   ],
   "source": [
    "df.isna().sum()# подсчёт пропусков"
   ]
  },
  {
   "cell_type": "markdown",
   "metadata": {
    "id": "qubhgnlO_Zct"
   },
   "source": [
    "Не все пропущенные значения влияют на исследование. Так в `track` и `artist` пропуски не важны для вашей работы. Достаточно заменить их явными обозначениями.\n",
    "\n",
    "Но пропуски в `genre` могут помешать сравнению музыкальных вкусов в Москве и Санкт-Петербурге. На практике было бы правильно установить причину пропусков и восстановить данные. Такой возможности нет в учебном проекте. Придётся:\n",
    "* заполнить и эти пропуски явными обозначениями,\n",
    "* оценить, насколько они повредят расчётам. "
   ]
  },
  {
   "cell_type": "code",
   "execution_count": 9,
   "metadata": {
    "id": "KplB5qWs_Zct"
   },
   "outputs": [],
   "source": [
    "# перебор названий столбцов в цикле и замена пропущенных значений на 'unknown'\n",
    "columns_to_replace=['track', 'artist' , 'genre']\n",
    "for col in columns_to_replace:\n",
    "    df[col] = df[col].fillna('unknown')"
   ]
  },
  {
   "cell_type": "code",
   "execution_count": 10,
   "metadata": {
    "id": "Tq4nYRX4_Zct"
   },
   "outputs": [
    {
     "data": {
      "text/plain": [
       "user_id    0\n",
       "track      0\n",
       "artist     0\n",
       "genre      0\n",
       "city       0\n",
       "time       0\n",
       "day        0\n",
       "dtype: int64"
      ]
     },
     "execution_count": 10,
     "metadata": {},
     "output_type": "execute_result"
    }
   ],
   "source": [
    "df.isna().sum()# подсчёт пропусков"
   ]
  },
  {
   "cell_type": "markdown",
   "metadata": {
    "id": "BWKRtBJ3_Zct"
   },
   "source": [
    "### Дубликаты"
   ]
  },
  {
   "cell_type": "code",
   "execution_count": 11,
   "metadata": {
    "id": "36eES_S0_Zct"
   },
   "outputs": [
    {
     "data": {
      "text/plain": [
       "3826"
      ]
     },
     "execution_count": 11,
     "metadata": {},
     "output_type": "execute_result"
    }
   ],
   "source": [
    "df.duplicated().sum()# подсчёт явных дубликатов"
   ]
  },
  {
   "cell_type": "code",
   "execution_count": 12,
   "metadata": {
    "id": "exFHq6tt_Zct"
   },
   "outputs": [],
   "source": [
    "df=df.drop_duplicates().reset_index(drop=True)# удаление явных дубликатов (с удалением старых индексов и формированием новых)"
   ]
  },
  {
   "cell_type": "markdown",
   "metadata": {
    "id": "Im2YwBEG_Zct"
   },
   "source": [
    "Ещё раз посчитайте явные дубликаты в таблице — убедитесь, что полностью от них избавились:"
   ]
  },
  {
   "cell_type": "code",
   "execution_count": 13,
   "metadata": {
    "id": "-8PuNWQ0_Zct"
   },
   "outputs": [
    {
     "data": {
      "text/plain": [
       "0"
      ]
     },
     "execution_count": 13,
     "metadata": {},
     "output_type": "execute_result"
    }
   ],
   "source": [
    "# проверка на отсутствие дубликатов\n",
    "df.duplicated().sum()"
   ]
  },
  {
   "cell_type": "code",
   "execution_count": 14,
   "metadata": {
    "id": "JIUcqzZN_Zct"
   },
   "outputs": [
    {
     "data": {
      "text/plain": [
       "array(['acid', 'acoustic', 'action', 'adult', 'africa', 'afrikaans',\n",
       "       'alternative', 'alternativepunk', 'ambient', 'americana',\n",
       "       'animated', 'anime', 'arabesk', 'arabic', 'arena',\n",
       "       'argentinetango', 'art', 'audiobook', 'author', 'avantgarde',\n",
       "       'axé', 'baile', 'balkan', 'beats', 'bigroom', 'black', 'bluegrass',\n",
       "       'blues', 'bollywood', 'bossa', 'brazilian', 'breakbeat', 'breaks',\n",
       "       'broadway', 'cantautori', 'cantopop', 'canzone', 'caribbean',\n",
       "       'caucasian', 'celtic', 'chamber', 'chanson', 'children', 'chill',\n",
       "       'chinese', 'choral', 'christian', 'christmas', 'classical',\n",
       "       'classicmetal', 'club', 'colombian', 'comedy', 'conjazz',\n",
       "       'contemporary', 'country', 'cuban', 'dance', 'dancehall',\n",
       "       'dancepop', 'dark', 'death', 'deep', 'deutschrock', 'deutschspr',\n",
       "       'dirty', 'disco', 'dnb', 'documentary', 'downbeat', 'downtempo',\n",
       "       'drum', 'dub', 'dubstep', 'eastern', 'easy', 'electronic',\n",
       "       'electropop', 'emo', 'entehno', 'epicmetal', 'estrada', 'ethnic',\n",
       "       'eurofolk', 'european', 'experimental', 'extrememetal', 'fado',\n",
       "       'fairytail', 'film', 'fitness', 'flamenco', 'folk', 'folklore',\n",
       "       'folkmetal', 'folkrock', 'folktronica', 'forró', 'frankreich',\n",
       "       'französisch', 'french', 'funk', 'future', 'gangsta', 'garage',\n",
       "       'german', 'ghazal', 'gitarre', 'glitch', 'gospel', 'gothic',\n",
       "       'grime', 'grunge', 'gypsy', 'handsup', \"hard'n'heavy\", 'hardcore',\n",
       "       'hardstyle', 'hardtechno', 'hip', 'hip-hop', 'hiphop',\n",
       "       'historisch', 'holiday', 'hop', 'horror', 'house', 'hymn', 'idm',\n",
       "       'independent', 'indian', 'indie', 'indipop', 'industrial',\n",
       "       'inspirational', 'instrumental', 'international', 'irish', 'jam',\n",
       "       'japanese', 'jazz', 'jewish', 'jpop', 'jungle', 'k-pop',\n",
       "       'karadeniz', 'karaoke', 'kayokyoku', 'korean', 'laiko', 'latin',\n",
       "       'latino', 'leftfield', 'local', 'lounge', 'loungeelectronic',\n",
       "       'lovers', 'malaysian', 'mandopop', 'marschmusik', 'meditative',\n",
       "       'mediterranean', 'melodic', 'metal', 'metalcore', 'mexican',\n",
       "       'middle', 'minimal', 'miscellaneous', 'modern', 'mood', 'mpb',\n",
       "       'muslim', 'native', 'neoklassik', 'neue', 'new', 'newage',\n",
       "       'newwave', 'nu', 'nujazz', 'numetal', 'oceania', 'old', 'opera',\n",
       "       'orchestral', 'other', 'piano', 'podcasts', 'pop', 'popdance',\n",
       "       'popelectronic', 'popeurodance', 'poprussian', 'post',\n",
       "       'posthardcore', 'postrock', 'power', 'progmetal', 'progressive',\n",
       "       'psychedelic', 'punjabi', 'punk', 'quebecois', 'ragga', 'ram',\n",
       "       'rancheras', 'rap', 'rave', 'reggae', 'reggaeton', 'regional',\n",
       "       'relax', 'religious', 'retro', 'rhythm', 'rnb', 'rnr', 'rock',\n",
       "       'rockabilly', 'rockalternative', 'rockindie', 'rockother',\n",
       "       'romance', 'roots', 'ruspop', 'rusrap', 'rusrock', 'russian',\n",
       "       'salsa', 'samba', 'scenic', 'schlager', 'self', 'sertanejo',\n",
       "       'shanson', 'shoegazing', 'showtunes', 'singer', 'ska', 'skarock',\n",
       "       'slow', 'smooth', 'soft', 'soul', 'soulful', 'sound', 'soundtrack',\n",
       "       'southern', 'specialty', 'speech', 'spiritual', 'sport',\n",
       "       'stonerrock', 'surf', 'swing', 'synthpop', 'synthrock',\n",
       "       'sängerportrait', 'tango', 'tanzorchester', 'taraftar', 'tatar',\n",
       "       'tech', 'techno', 'teen', 'thrash', 'top', 'traditional',\n",
       "       'tradjazz', 'trance', 'tribal', 'trip', 'triphop', 'tropical',\n",
       "       'türk', 'türkçe', 'ukrrock', 'unknown', 'urban', 'uzbek',\n",
       "       'variété', 'vi', 'videogame', 'vocal', 'western', 'world',\n",
       "       'worldbeat', 'ïîï', 'электроника'], dtype=object)"
      ]
     },
     "execution_count": 14,
     "metadata": {},
     "output_type": "execute_result"
    }
   ],
   "source": [
    "# Просмотр уникальных названий жанров\n",
    "df['genre'].sort_values().unique()"
   ]
  },
  {
   "cell_type": "code",
   "execution_count": 15,
   "metadata": {
    "id": "ErNDkmns_Zct"
   },
   "outputs": [],
   "source": [
    "def replace_wrong_genres(wrong_genres, correct_genre):\n",
    "    for wrong_genre in wrong_genres:\n",
    "         df['genre'] = df['genre'].replace(wrong_genres, correct_genre)\n",
    "        # Функция для замены неявных дубликатов"
   ]
  },
  {
   "cell_type": "code",
   "execution_count": 16,
   "metadata": {
    "id": "YN5i2hpmSo09"
   },
   "outputs": [],
   "source": [
    "wg=['hip', 'hop','hip-hop']\n",
    "cg='hiphop'\n",
    "replace_wrong_genres(wg,cg) # Устранение неявных дубликатов"
   ]
  },
  {
   "cell_type": "code",
   "execution_count": 17,
   "metadata": {
    "id": "wvixALnFG15m"
   },
   "outputs": [
    {
     "data": {
      "text/plain": [
       "array(['acid', 'acoustic', 'action', 'adult', 'africa', 'afrikaans',\n",
       "       'alternative', 'alternativepunk', 'ambient', 'americana',\n",
       "       'animated', 'anime', 'arabesk', 'arabic', 'arena',\n",
       "       'argentinetango', 'art', 'audiobook', 'author', 'avantgarde',\n",
       "       'axé', 'baile', 'balkan', 'beats', 'bigroom', 'black', 'bluegrass',\n",
       "       'blues', 'bollywood', 'bossa', 'brazilian', 'breakbeat', 'breaks',\n",
       "       'broadway', 'cantautori', 'cantopop', 'canzone', 'caribbean',\n",
       "       'caucasian', 'celtic', 'chamber', 'chanson', 'children', 'chill',\n",
       "       'chinese', 'choral', 'christian', 'christmas', 'classical',\n",
       "       'classicmetal', 'club', 'colombian', 'comedy', 'conjazz',\n",
       "       'contemporary', 'country', 'cuban', 'dance', 'dancehall',\n",
       "       'dancepop', 'dark', 'death', 'deep', 'deutschrock', 'deutschspr',\n",
       "       'dirty', 'disco', 'dnb', 'documentary', 'downbeat', 'downtempo',\n",
       "       'drum', 'dub', 'dubstep', 'eastern', 'easy', 'electronic',\n",
       "       'electropop', 'emo', 'entehno', 'epicmetal', 'estrada', 'ethnic',\n",
       "       'eurofolk', 'european', 'experimental', 'extrememetal', 'fado',\n",
       "       'fairytail', 'film', 'fitness', 'flamenco', 'folk', 'folklore',\n",
       "       'folkmetal', 'folkrock', 'folktronica', 'forró', 'frankreich',\n",
       "       'französisch', 'french', 'funk', 'future', 'gangsta', 'garage',\n",
       "       'german', 'ghazal', 'gitarre', 'glitch', 'gospel', 'gothic',\n",
       "       'grime', 'grunge', 'gypsy', 'handsup', \"hard'n'heavy\", 'hardcore',\n",
       "       'hardstyle', 'hardtechno', 'hiphop', 'historisch', 'holiday',\n",
       "       'horror', 'house', 'hymn', 'idm', 'independent', 'indian', 'indie',\n",
       "       'indipop', 'industrial', 'inspirational', 'instrumental',\n",
       "       'international', 'irish', 'jam', 'japanese', 'jazz', 'jewish',\n",
       "       'jpop', 'jungle', 'k-pop', 'karadeniz', 'karaoke', 'kayokyoku',\n",
       "       'korean', 'laiko', 'latin', 'latino', 'leftfield', 'local',\n",
       "       'lounge', 'loungeelectronic', 'lovers', 'malaysian', 'mandopop',\n",
       "       'marschmusik', 'meditative', 'mediterranean', 'melodic', 'metal',\n",
       "       'metalcore', 'mexican', 'middle', 'minimal', 'miscellaneous',\n",
       "       'modern', 'mood', 'mpb', 'muslim', 'native', 'neoklassik', 'neue',\n",
       "       'new', 'newage', 'newwave', 'nu', 'nujazz', 'numetal', 'oceania',\n",
       "       'old', 'opera', 'orchestral', 'other', 'piano', 'podcasts', 'pop',\n",
       "       'popdance', 'popelectronic', 'popeurodance', 'poprussian', 'post',\n",
       "       'posthardcore', 'postrock', 'power', 'progmetal', 'progressive',\n",
       "       'psychedelic', 'punjabi', 'punk', 'quebecois', 'ragga', 'ram',\n",
       "       'rancheras', 'rap', 'rave', 'reggae', 'reggaeton', 'regional',\n",
       "       'relax', 'religious', 'retro', 'rhythm', 'rnb', 'rnr', 'rock',\n",
       "       'rockabilly', 'rockalternative', 'rockindie', 'rockother',\n",
       "       'romance', 'roots', 'ruspop', 'rusrap', 'rusrock', 'russian',\n",
       "       'salsa', 'samba', 'scenic', 'schlager', 'self', 'sertanejo',\n",
       "       'shanson', 'shoegazing', 'showtunes', 'singer', 'ska', 'skarock',\n",
       "       'slow', 'smooth', 'soft', 'soul', 'soulful', 'sound', 'soundtrack',\n",
       "       'southern', 'specialty', 'speech', 'spiritual', 'sport',\n",
       "       'stonerrock', 'surf', 'swing', 'synthpop', 'synthrock',\n",
       "       'sängerportrait', 'tango', 'tanzorchester', 'taraftar', 'tatar',\n",
       "       'tech', 'techno', 'teen', 'thrash', 'top', 'traditional',\n",
       "       'tradjazz', 'trance', 'tribal', 'trip', 'triphop', 'tropical',\n",
       "       'türk', 'türkçe', 'ukrrock', 'unknown', 'urban', 'uzbek',\n",
       "       'variété', 'vi', 'videogame', 'vocal', 'western', 'world',\n",
       "       'worldbeat', 'ïîï', 'электроника'], dtype=object)"
      ]
     },
     "execution_count": 17,
     "metadata": {},
     "output_type": "execute_result"
    }
   ],
   "source": [
    "# Проверка на неявные дубликаты\n",
    "df['genre'].sort_values().unique()"
   ]
  },
  {
   "cell_type": "markdown",
   "metadata": {
    "id": "jz6a9-7HQUDd"
   },
   "source": [
    "**Выводы**\n",
    "\n",
    "Предобработка обнаружила три проблемы в данных:\n",
    "\n",
    "- нарушения в стиле заголовков,\n",
    "- пропущенные значения,\n",
    "- дубликаты — явные и неявные.\n",
    "\n",
    "Вы исправили заголовки, чтобы упростить работу с таблицей. Без дубликатов исследование станет более точным.\n",
    "\n",
    "Пропущенные значения вы заменили на `'unknown'`. Ещё предстоит увидеть, не повредят ли исследованию пропуски в колонке `genre`.\n",
    "\n",
    "Теперь можно перейти к проверке гипотез. "
   ]
  },
  {
   "cell_type": "markdown",
   "metadata": {
    "id": "WttZHXH0SqKk"
   },
   "source": [
    "## Проверка гипотез"
   ]
  },
  {
   "cell_type": "markdown",
   "metadata": {
    "id": "Im936VVi_Zcu"
   },
   "source": [
    "### Сравнение поведения пользователей двух столиц"
   ]
  },
  {
   "cell_type": "markdown",
   "metadata": {
    "id": "nwt_MuaL_Zcu"
   },
   "source": [
    "Первая гипотеза утверждает, что пользователи по-разному слушают музыку в Москве и Санкт-Петербурге. Проверьте это предположение по данным о трёх днях недели — понедельнике, среде и пятнице. Для этого:\n",
    "\n",
    "* Разделите пользователей Москвы и Санкт-Петербурга\n",
    "* Сравните, сколько треков послушала каждая группа пользователей в понедельник, среду и пятницу.\n"
   ]
  },
  {
   "cell_type": "code",
   "execution_count": 18,
   "metadata": {
    "id": "0_Qs96oh_Zcu"
   },
   "outputs": [
    {
     "data": {
      "text/plain": [
       "city\n",
       "Moscow              42741\n",
       "Saint-Petersburg    18512\n",
       "Name: track, dtype: int64"
      ]
     },
     "execution_count": 18,
     "metadata": {},
     "output_type": "execute_result"
    }
   ],
   "source": [
    "df.groupby('city')['track'].count() \n"
   ]
  },
  {
   "cell_type": "markdown",
   "metadata": {
    "id": "dzli3w8o_Zcu"
   },
   "source": [
    "В Москве прослушиваний больше, чем в Петербурге. Из этого не следует, что московские пользователи чаще слушают музыку. Просто самих пользователей в Москве больше.\n",
    "\n",
    "Теперь сгруппируйте данные по дню недели и подсчитайте прослушивания в понедельник, среду и пятницу. Учтите, что в данных есть информация только о прослушиваниях только за эти дни.\n"
   ]
  },
  {
   "cell_type": "code",
   "execution_count": 19,
   "metadata": {
    "id": "uZMKjiJz_Zcu"
   },
   "outputs": [
    {
     "data": {
      "text/plain": [
       "day\n",
       "Friday       21840\n",
       "Monday       21354\n",
       "Wednesday    18059\n",
       "Name: time, dtype: int64"
      ]
     },
     "execution_count": 19,
     "metadata": {},
     "output_type": "execute_result"
    }
   ],
   "source": [
    "df.groupby('day')['time'].count()"
   ]
  },
  {
   "cell_type": "markdown",
   "metadata": {
    "id": "cC2tNrlL_Zcu"
   },
   "source": [
    "В среднем пользователи из двух городов менее активны по средам. Но картина может измениться, если рассмотреть каждый город в отдельности."
   ]
  },
  {
   "cell_type": "code",
   "execution_count": 20,
   "metadata": {
    "id": "Nz3GdQB1_Zcu"
   },
   "outputs": [],
   "source": [
    "def number_tracks(day,city):\n",
    "    track_list=df[(df['day']==day) & (df['city']==city)]\n",
    "    track_list_count=track_list['user_id'].count()\n",
    "    result=f'В {day} в городе {city} было прослушано: {track_list_count}'\n",
    "    return result"
   ]
  },
  {
   "cell_type": "markdown",
   "metadata": {
    "id": "ytf7xFrFJQ2r"
   },
   "source": [
    "Вызовите `number_tracks()` шесть раз, меняя значение параметров — так, чтобы получить данные для каждого города в каждый из трёх дней."
   ]
  },
  {
   "cell_type": "code",
   "execution_count": 21,
   "metadata": {
    "id": "rJcRATNQ_Zcu"
   },
   "outputs": [
    {
     "data": {
      "text/plain": [
       "'В Monday в городе Moscow было прослушано: 15740'"
      ]
     },
     "execution_count": 21,
     "metadata": {},
     "output_type": "execute_result"
    }
   ],
   "source": [
    "number_tracks('Monday','Moscow')# количество прослушиваний в Москве по понедельникам"
   ]
  },
  {
   "cell_type": "code",
   "execution_count": 22,
   "metadata": {
    "id": "hq_ncZ5T_Zcu"
   },
   "outputs": [
    {
     "data": {
      "text/plain": [
       "'В Monday в городе Saint-Petersburg было прослушано: 5614'"
      ]
     },
     "execution_count": 22,
     "metadata": {},
     "output_type": "execute_result"
    }
   ],
   "source": [
    "number_tracks('Monday','Saint-Petersburg')# количество прослушиваний в Санкт-Петербурге по понедельникам"
   ]
  },
  {
   "cell_type": "code",
   "execution_count": 23,
   "metadata": {
    "id": "_NTy2VPU_Zcu"
   },
   "outputs": [
    {
     "data": {
      "text/plain": [
       "'В Wednesday в городе Moscow было прослушано: 11056'"
      ]
     },
     "execution_count": 23,
     "metadata": {},
     "output_type": "execute_result"
    }
   ],
   "source": [
    "number_tracks('Wednesday','Moscow')# количество прослушиваний в Москве по средам"
   ]
  },
  {
   "cell_type": "code",
   "execution_count": 24,
   "metadata": {
    "id": "j2y3TAwo_Zcu"
   },
   "outputs": [
    {
     "data": {
      "text/plain": [
       "'В Wednesday в городе Saint-Petersburg было прослушано: 7003'"
      ]
     },
     "execution_count": 24,
     "metadata": {},
     "output_type": "execute_result"
    }
   ],
   "source": [
    "number_tracks('Wednesday','Saint-Petersburg')# количество прослушиваний в Санкт-Петербурге по средам"
   ]
  },
  {
   "cell_type": "code",
   "execution_count": 25,
   "metadata": {
    "id": "vYDw5u_K_Zcu"
   },
   "outputs": [
    {
     "data": {
      "text/plain": [
       "'В Friday в городе Moscow было прослушано: 15945'"
      ]
     },
     "execution_count": 25,
     "metadata": {},
     "output_type": "execute_result"
    }
   ],
   "source": [
    "number_tracks('Friday','Moscow')# количество прослушиваний в Москве по пятницам"
   ]
  },
  {
   "cell_type": "code",
   "execution_count": 26,
   "metadata": {
    "id": "8_yzFtW3_Zcu"
   },
   "outputs": [
    {
     "data": {
      "text/plain": [
       "'В Friday в городе Saint-Petersburg было прослушано: 5895'"
      ]
     },
     "execution_count": 26,
     "metadata": {},
     "output_type": "execute_result"
    }
   ],
   "source": [
    "number_tracks('Friday','Saint-Petersburg')# количество прослушиваний в Санкт-Петербурге по пятницам"
   ]
  },
  {
   "cell_type": "code",
   "execution_count": 27,
   "metadata": {
    "id": "APAcLpOr_Zcu"
   },
   "outputs": [
    {
     "data": {
      "text/html": [
       "<div>\n",
       "<style scoped>\n",
       "    .dataframe tbody tr th:only-of-type {\n",
       "        vertical-align: middle;\n",
       "    }\n",
       "\n",
       "    .dataframe tbody tr th {\n",
       "        vertical-align: top;\n",
       "    }\n",
       "\n",
       "    .dataframe thead th {\n",
       "        text-align: right;\n",
       "    }\n",
       "</style>\n",
       "<table border=\"1\" class=\"dataframe\">\n",
       "  <thead>\n",
       "    <tr style=\"text-align: right;\">\n",
       "      <th></th>\n",
       "      <th>city</th>\n",
       "      <th>monday</th>\n",
       "      <th>wednesday</th>\n",
       "      <th>friday</th>\n",
       "    </tr>\n",
       "  </thead>\n",
       "  <tbody>\n",
       "    <tr>\n",
       "      <td>0</td>\n",
       "      <td>Moscow</td>\n",
       "      <td>15740</td>\n",
       "      <td>11056</td>\n",
       "      <td>15945</td>\n",
       "    </tr>\n",
       "    <tr>\n",
       "      <td>1</td>\n",
       "      <td>Saint-Petersburg</td>\n",
       "      <td>5614</td>\n",
       "      <td>7003</td>\n",
       "      <td>5895</td>\n",
       "    </tr>\n",
       "  </tbody>\n",
       "</table>\n",
       "</div>"
      ],
      "text/plain": [
       "               city  monday  wednesday  friday\n",
       "0            Moscow   15740      11056   15945\n",
       "1  Saint-Petersburg    5614       7003    5895"
      ]
     },
     "execution_count": 27,
     "metadata": {},
     "output_type": "execute_result"
    }
   ],
   "source": [
    "dat=[\n",
    "    ['Moscow',15740,11056,15945],\n",
    "    ['Saint-Petersburg',5614,7003,5895]\n",
    "]\n",
    "col=['city', 'monday', 'wednesday', 'friday']\n",
    "pd.DataFrame(data=dat, columns=col) # Таблица с результатами"
   ]
  },
  {
   "cell_type": "markdown",
   "metadata": {
    "id": "-EgPIHYu_Zcu"
   },
   "source": [
    "**Выводы**\n",
    "\n",
    "Данные показывают разницу поведения пользователей:\n",
    "\n",
    "- В Москве пик прослушиваний приходится на понедельник и пятницу, а в среду заметен спад.\n",
    "- В Петербурге, наоборот, больше слушают музыку по средам. Активность в понедельник и пятницу здесь почти в равной мере уступает среде.\n",
    "\n",
    "Значит, данные говорят в пользу первой гипотезы."
   ]
  },
  {
   "cell_type": "markdown",
   "metadata": {
    "id": "atZAxtq4_Zcu"
   },
   "source": [
    "### Музыка в начале и в конце недели"
   ]
  },
  {
   "cell_type": "markdown",
   "metadata": {
    "id": "eXrQqXFH_Zcu"
   },
   "source": [
    "Согласно второй гипотезе, утром в понедельник в Москве преобладают одни жанры, а в Петербурге — другие. Так же и вечером пятницы преобладают разные жанры — в зависимости от города."
   ]
  },
  {
   "cell_type": "code",
   "execution_count": 28,
   "metadata": {
    "id": "qeaFfM_P_Zcu"
   },
   "outputs": [
    {
     "data": {
      "text/html": [
       "<div>\n",
       "<style scoped>\n",
       "    .dataframe tbody tr th:only-of-type {\n",
       "        vertical-align: middle;\n",
       "    }\n",
       "\n",
       "    .dataframe tbody tr th {\n",
       "        vertical-align: top;\n",
       "    }\n",
       "\n",
       "    .dataframe thead th {\n",
       "        text-align: right;\n",
       "    }\n",
       "</style>\n",
       "<table border=\"1\" class=\"dataframe\">\n",
       "  <thead>\n",
       "    <tr style=\"text-align: right;\">\n",
       "      <th></th>\n",
       "      <th>user_id</th>\n",
       "      <th>track</th>\n",
       "      <th>artist</th>\n",
       "      <th>genre</th>\n",
       "      <th>city</th>\n",
       "      <th>time</th>\n",
       "      <th>day</th>\n",
       "    </tr>\n",
       "  </thead>\n",
       "  <tbody>\n",
       "    <tr>\n",
       "      <td>1</td>\n",
       "      <td>55204538</td>\n",
       "      <td>Delayed Because of Accident</td>\n",
       "      <td>Andreas Rönnberg</td>\n",
       "      <td>rock</td>\n",
       "      <td>Moscow</td>\n",
       "      <td>14:07:09</td>\n",
       "      <td>Friday</td>\n",
       "    </tr>\n",
       "    <tr>\n",
       "      <td>4</td>\n",
       "      <td>E2DC1FAE</td>\n",
       "      <td>Soul People</td>\n",
       "      <td>Space Echo</td>\n",
       "      <td>dance</td>\n",
       "      <td>Moscow</td>\n",
       "      <td>08:34:34</td>\n",
       "      <td>Monday</td>\n",
       "    </tr>\n",
       "    <tr>\n",
       "      <td>6</td>\n",
       "      <td>4CB90AA5</td>\n",
       "      <td>True</td>\n",
       "      <td>Roman Messer</td>\n",
       "      <td>dance</td>\n",
       "      <td>Moscow</td>\n",
       "      <td>13:00:07</td>\n",
       "      <td>Wednesday</td>\n",
       "    </tr>\n",
       "    <tr>\n",
       "      <td>7</td>\n",
       "      <td>F03E1C1F</td>\n",
       "      <td>Feeling This Way</td>\n",
       "      <td>Polina Griffith</td>\n",
       "      <td>dance</td>\n",
       "      <td>Moscow</td>\n",
       "      <td>20:47:49</td>\n",
       "      <td>Wednesday</td>\n",
       "    </tr>\n",
       "    <tr>\n",
       "      <td>8</td>\n",
       "      <td>8FA1D3BE</td>\n",
       "      <td>И вновь продолжается бой</td>\n",
       "      <td>unknown</td>\n",
       "      <td>ruspop</td>\n",
       "      <td>Moscow</td>\n",
       "      <td>09:17:40</td>\n",
       "      <td>Friday</td>\n",
       "    </tr>\n",
       "    <tr>\n",
       "      <td>...</td>\n",
       "      <td>...</td>\n",
       "      <td>...</td>\n",
       "      <td>...</td>\n",
       "      <td>...</td>\n",
       "      <td>...</td>\n",
       "      <td>...</td>\n",
       "      <td>...</td>\n",
       "    </tr>\n",
       "    <tr>\n",
       "      <td>61247</td>\n",
       "      <td>83A474E7</td>\n",
       "      <td>I Worship Only What You Bleed</td>\n",
       "      <td>The Black Dahlia Murder</td>\n",
       "      <td>extrememetal</td>\n",
       "      <td>Moscow</td>\n",
       "      <td>21:07:12</td>\n",
       "      <td>Monday</td>\n",
       "    </tr>\n",
       "    <tr>\n",
       "      <td>61248</td>\n",
       "      <td>729CBB09</td>\n",
       "      <td>My Name</td>\n",
       "      <td>McLean</td>\n",
       "      <td>rnb</td>\n",
       "      <td>Moscow</td>\n",
       "      <td>13:32:28</td>\n",
       "      <td>Wednesday</td>\n",
       "    </tr>\n",
       "    <tr>\n",
       "      <td>61250</td>\n",
       "      <td>C5E3A0D5</td>\n",
       "      <td>Jalopiina</td>\n",
       "      <td>unknown</td>\n",
       "      <td>industrial</td>\n",
       "      <td>Moscow</td>\n",
       "      <td>20:09:26</td>\n",
       "      <td>Friday</td>\n",
       "    </tr>\n",
       "    <tr>\n",
       "      <td>61251</td>\n",
       "      <td>321D0506</td>\n",
       "      <td>Freight Train</td>\n",
       "      <td>Chas McDevitt</td>\n",
       "      <td>rock</td>\n",
       "      <td>Moscow</td>\n",
       "      <td>21:43:59</td>\n",
       "      <td>Friday</td>\n",
       "    </tr>\n",
       "    <tr>\n",
       "      <td>61252</td>\n",
       "      <td>3A64EF84</td>\n",
       "      <td>Tell Me Sweet Little Lies</td>\n",
       "      <td>Monica Lopez</td>\n",
       "      <td>country</td>\n",
       "      <td>Moscow</td>\n",
       "      <td>21:59:46</td>\n",
       "      <td>Friday</td>\n",
       "    </tr>\n",
       "  </tbody>\n",
       "</table>\n",
       "<p>42741 rows × 7 columns</p>\n",
       "</div>"
      ],
      "text/plain": [
       "        user_id                          track                   artist  \\\n",
       "1      55204538    Delayed Because of Accident         Andreas Rönnberg   \n",
       "4      E2DC1FAE                    Soul People               Space Echo   \n",
       "6      4CB90AA5                           True             Roman Messer   \n",
       "7      F03E1C1F               Feeling This Way          Polina Griffith   \n",
       "8      8FA1D3BE       И вновь продолжается бой                  unknown   \n",
       "...         ...                            ...                      ...   \n",
       "61247  83A474E7  I Worship Only What You Bleed  The Black Dahlia Murder   \n",
       "61248  729CBB09                        My Name                   McLean   \n",
       "61250  C5E3A0D5                      Jalopiina                  unknown   \n",
       "61251  321D0506                  Freight Train            Chas McDevitt   \n",
       "61252  3A64EF84      Tell Me Sweet Little Lies             Monica Lopez   \n",
       "\n",
       "              genre    city      time        day  \n",
       "1              rock  Moscow  14:07:09     Friday  \n",
       "4             dance  Moscow  08:34:34     Monday  \n",
       "6             dance  Moscow  13:00:07  Wednesday  \n",
       "7             dance  Moscow  20:47:49  Wednesday  \n",
       "8            ruspop  Moscow  09:17:40     Friday  \n",
       "...             ...     ...       ...        ...  \n",
       "61247  extrememetal  Moscow  21:07:12     Monday  \n",
       "61248           rnb  Moscow  13:32:28  Wednesday  \n",
       "61250    industrial  Moscow  20:09:26     Friday  \n",
       "61251          rock  Moscow  21:43:59     Friday  \n",
       "61252       country  Moscow  21:59:46     Friday  \n",
       "\n",
       "[42741 rows x 7 columns]"
      ]
     },
     "execution_count": 28,
     "metadata": {},
     "output_type": "execute_result"
    }
   ],
   "source": [
    "moscow_general= df[df['city']=='Moscow']# получение таблицы moscow_general из тех строк таблицы df, \n",
    "moscow_general# для которых значение в столбце 'city' равно 'Moscow'\n"
   ]
  },
  {
   "cell_type": "code",
   "execution_count": 29,
   "metadata": {
    "id": "ORaVRKto_Zcu"
   },
   "outputs": [],
   "source": [
    "spb_general=df[df['city']=='Saint-Petersburg']# получение таблицы spb_general из тех строк таблицы df,\n",
    "# для которых значение в столбце 'city' равно 'Saint-Petersburg'\n"
   ]
  },
  {
   "cell_type": "code",
   "execution_count": 30,
   "metadata": {
    "id": "laJT9BYl_Zcu"
   },
   "outputs": [],
   "source": [
    "def genre_weekday(table, day, time1, time2):\n",
    "    genre_df=table[(table['day']==day) & (table['time']>time1) & (table['time']<time2)]\n",
    "    genre_df_count=genre_df.groupby('genre')['track'].count()\n",
    "    genre_df_sorted=genre_df_count.sort_values(ascending=False)\n",
    "    return genre_df_sorted.head(10)"
   ]
  },
  {
   "cell_type": "code",
   "execution_count": 31,
   "metadata": {
    "id": "yz7itPUQ_Zcu"
   },
   "outputs": [
    {
     "data": {
      "text/plain": [
       "genre\n",
       "pop            781\n",
       "dance          549\n",
       "electronic     480\n",
       "rock           474\n",
       "hiphop         286\n",
       "ruspop         186\n",
       "world          181\n",
       "rusrap         175\n",
       "alternative    164\n",
       "unknown        161\n",
       "Name: track, dtype: int64"
      ]
     },
     "execution_count": 31,
     "metadata": {},
     "output_type": "execute_result"
    }
   ],
   "source": [
    "genre_weekday(moscow_general, 'Monday', '07:00', '11:00')"
   ]
  },
  {
   "cell_type": "code",
   "execution_count": 32,
   "metadata": {
    "id": "kwUcHPdy_Zcu"
   },
   "outputs": [
    {
     "data": {
      "text/plain": [
       "genre\n",
       "pop            218\n",
       "dance          182\n",
       "rock           162\n",
       "electronic     147\n",
       "hiphop          80\n",
       "ruspop          64\n",
       "alternative     58\n",
       "rusrap          55\n",
       "jazz            44\n",
       "classical       40\n",
       "Name: track, dtype: int64"
      ]
     },
     "execution_count": 32,
     "metadata": {},
     "output_type": "execute_result"
    }
   ],
   "source": [
    "genre_weekday(spb_general, 'Monday', '07:00', '11:00')# вызов функции для утра понедельника в Петербурге (вместо df — таблица spb_general)"
   ]
  },
  {
   "cell_type": "code",
   "execution_count": 33,
   "metadata": {
    "id": "EzXVRE1o_Zcu"
   },
   "outputs": [
    {
     "data": {
      "text/plain": [
       "genre\n",
       "pop            713\n",
       "rock           517\n",
       "dance          495\n",
       "electronic     482\n",
       "hiphop         273\n",
       "world          208\n",
       "ruspop         170\n",
       "alternative    163\n",
       "classical      163\n",
       "rusrap         142\n",
       "Name: track, dtype: int64"
      ]
     },
     "execution_count": 33,
     "metadata": {},
     "output_type": "execute_result"
    }
   ],
   "source": [
    "genre_weekday(moscow_general, 'Friday', '17:00', '23:00')# вызов функции для вечера пятницы в Москве"
   ]
  },
  {
   "cell_type": "code",
   "execution_count": 34,
   "metadata": {
    "id": "JZaEKu5v_Zcu"
   },
   "outputs": [
    {
     "data": {
      "text/plain": [
       "genre\n",
       "pop            256\n",
       "rock           216\n",
       "electronic     216\n",
       "dance          210\n",
       "hiphop          97\n",
       "alternative     63\n",
       "jazz            61\n",
       "classical       60\n",
       "rusrap          59\n",
       "world           54\n",
       "Name: track, dtype: int64"
      ]
     },
     "execution_count": 34,
     "metadata": {},
     "output_type": "execute_result"
    }
   ],
   "source": [
    "genre_weekday(spb_general, 'Friday', '17:00', '23:00')# вызов функции для вечера пятницы в Петербурге"
   ]
  },
  {
   "cell_type": "markdown",
   "metadata": {
    "id": "wrCe4MNX_Zcu"
   },
   "source": [
    "**Выводы**\n",
    "\n",
    "Если сравнить топ-10 жанров в понедельник утром, можно сделать такие выводы:\n",
    "\n",
    "1. В Москве и Петербурге слушают похожую музыку. Единственное отличие — в московский рейтинг вошёл жанр “world”, а в петербургский — джаз и классика.\n",
    "\n",
    "2. В Москве пропущенных значений оказалось так много, что значение `'unknown'` заняло десятое место среди самых популярных жанров. Значит, пропущенные значения занимают существенную долю в данных и угрожают достоверности исследования.\n",
    "\n",
    "Вечер пятницы не меняет эту картину. Некоторые жанры поднимаются немного выше, другие спускаются, но в целом топ-10 остаётся тем же самым.\n",
    "\n",
    "Таким образом, вторая гипотеза подтвердилась лишь частично:\n",
    "* Пользователи слушают похожую музыку в начале недели и в конце.\n",
    "* Разница между Москвой и Петербургом не слишком выражена. В Москве чаще слушают русскую популярную музыку, в Петербурге — джаз.\n",
    "\n",
    "Однако пропуски в данных ставят под сомнение этот результат. В Москве их так много, что рейтинг топ-10 мог бы выглядеть иначе, если бы не утерянные  данные о жанрах."
   ]
  },
  {
   "cell_type": "markdown",
   "metadata": {
    "id": "JolODAqr_Zcu"
   },
   "source": [
    "### Жанровые предпочтения в Москве и Петербурге\n",
    "\n",
    "Гипотеза: Петербург — столица рэпа, музыку этого жанра там слушают чаще, чем в Москве.  А Москва — город контрастов, в котором, тем не менее, преобладает поп-музыка."
   ]
  },
  {
   "cell_type": "code",
   "execution_count": 35,
   "metadata": {
    "id": "r19lIPke_Zcu"
   },
   "outputs": [],
   "source": [
    "moscow_genres=moscow_general.groupby('genre')['track'].count().sort_values(ascending=False)"
   ]
  },
  {
   "cell_type": "code",
   "execution_count": 36,
   "metadata": {
    "id": "WhCSooF8_Zcv"
   },
   "outputs": [
    {
     "data": {
      "text/plain": [
       "genre\n",
       "pop            5892\n",
       "dance          4435\n",
       "rock           3965\n",
       "electronic     3786\n",
       "hiphop         2096\n",
       "classical      1616\n",
       "world          1432\n",
       "alternative    1379\n",
       "ruspop         1372\n",
       "rusrap         1161\n",
       "Name: track, dtype: int64"
      ]
     },
     "execution_count": 36,
     "metadata": {},
     "output_type": "execute_result"
    }
   ],
   "source": [
    "moscow_genres.head(10)# просмотр первых 10 строк moscow_genres"
   ]
  },
  {
   "cell_type": "code",
   "execution_count": null,
   "metadata": {},
   "outputs": [],
   "source": [
    "spb_genres=spb_general.groupby('genre')['track'].count().sort_values(ascending=False)"
   ]
  },
  {
   "cell_type": "code",
   "execution_count": 38,
   "metadata": {
    "id": "uaGJHjVU_Zcv"
   },
   "outputs": [
    {
     "data": {
      "text/plain": [
       "genre\n",
       "pop            2431\n",
       "dance          1932\n",
       "rock           1879\n",
       "electronic     1736\n",
       "hiphop          960\n",
       "alternative     649\n",
       "classical       646\n",
       "rusrap          564\n",
       "ruspop          538\n",
       "world           515\n",
       "Name: track, dtype: int64"
      ]
     },
     "execution_count": 38,
     "metadata": {},
     "output_type": "execute_result"
    }
   ],
   "source": [
    "spb_genres.head(10)# просмотр первых 10 строк spb_genres"
   ]
  },
  {
   "cell_type": "markdown",
   "metadata": {
    "id": "RY51YJYu_Zcv"
   },
   "source": [
    "**Выводы**"
   ]
  },
  {
   "cell_type": "markdown",
   "metadata": {
    "id": "nVhnJEm__Zcv"
   },
   "source": [
    "Гипотеза частично подтвердилась:\n",
    "* Поп-музыка — самый популярный жанр в Москве, как и предполагала гипотеза. Более того, в топ-10 жанров встречается близкий жанр — русская популярная музыка.\n",
    "* Вопреки ожиданиям, рэп одинаково популярен в Москве и Петербурге. \n"
   ]
  },
  {
   "cell_type": "markdown",
   "metadata": {
    "id": "ykKQ0N65_Zcv"
   },
   "source": [
    "## Итоги исследования"
   ]
  },
  {
   "cell_type": "markdown",
   "metadata": {
    "id": "tjUwbHb3_Zcv"
   },
   "source": [
    "Вы проверили три гипотезы и установили:\n",
    "\n",
    "1. День недели по-разному влияет на активность пользователей в Москве и Петербурге. \n",
    "\n",
    "Первая гипотеза полностью подтвердилась.\n",
    "\n",
    "2. Музыкальные предпочтения не сильно меняются в течение недели — будь то Москва или Петербург. Небольшие различия заметны в начале недели, по понедельникам:\n",
    "* в Москве слушают музыку жанра “world”,\n",
    "* в Петербурге — джаз и классику.\n",
    "\n",
    "Таким образом, вторая гипотеза подтвердилась лишь отчасти. Этот результат мог оказаться иным, если бы не пропуски в данных.\n",
    "\n",
    "3. Во вкусах пользователей Москвы и Петербурга больше общего чем различий. Вопреки ожиданиям, предпочтения жанров в Петербурге напоминают московские.\n",
    "\n",
    "Третья гипотеза не подтвердилась. Если различия в предпочтениях и существуют, на основной массе пользователей они незаметны.\n",
    "\n",
    "**На практике исследования содержат проверки статистических гипотез.**\n",
    "Из данных одного сервиса не всегда можно сделать вывод о всех жителях города.\n",
    "Проверки статистических гипотез покажут, насколько они достоверны, исходя из имеющихся данных. \n",
    "С методами проверок гипотез вы ещё познакомитесь в следующих темах."
   ]
  },
  {
   "cell_type": "code",
   "execution_count": null,
   "metadata": {},
   "outputs": [],
   "source": []
  }
 ],
 "metadata": {
  "ExecuteTimeLog": [
   {
    "duration": 120,
    "start_time": "2022-01-07T16:37:01.284Z"
   },
   {
    "duration": 777,
    "start_time": "2022-01-07T16:37:09.218Z"
   },
   {
    "duration": 107,
    "start_time": "2022-01-07T16:37:53.840Z"
   },
   {
    "duration": 496,
    "start_time": "2022-01-07T16:38:48.770Z"
   },
   {
    "duration": 189,
    "start_time": "2022-01-07T16:39:47.731Z"
   },
   {
    "duration": 123,
    "start_time": "2022-01-07T16:40:20.994Z"
   },
   {
    "duration": 25,
    "start_time": "2022-01-07T16:40:34.534Z"
   },
   {
    "duration": 12,
    "start_time": "2022-01-07T16:40:58.813Z"
   },
   {
    "duration": 330,
    "start_time": "2022-01-07T16:43:40.867Z"
   },
   {
    "duration": 6,
    "start_time": "2022-01-07T16:45:58.775Z"
   },
   {
    "duration": 5,
    "start_time": "2022-01-07T16:48:27.921Z"
   },
   {
    "duration": 40,
    "start_time": "2022-01-07T16:48:33.575Z"
   },
   {
    "duration": 6,
    "start_time": "2022-01-07T16:48:46.891Z"
   },
   {
    "duration": 25,
    "start_time": "2022-01-07T16:49:05.239Z"
   },
   {
    "duration": 6,
    "start_time": "2022-01-07T16:49:08.506Z"
   },
   {
    "duration": 175,
    "start_time": "2022-01-09T14:13:35.138Z"
   },
   {
    "duration": 137,
    "start_time": "2022-01-09T14:14:07.229Z"
   },
   {
    "duration": 130,
    "start_time": "2022-01-09T14:14:13.145Z"
   },
   {
    "duration": 586,
    "start_time": "2022-01-09T14:14:15.749Z"
   },
   {
    "duration": 178,
    "start_time": "2022-01-09T14:14:19.858Z"
   },
   {
    "duration": 17,
    "start_time": "2022-01-09T14:14:21.975Z"
   },
   {
    "duration": 11,
    "start_time": "2022-01-09T14:14:24.189Z"
   },
   {
    "duration": 4,
    "start_time": "2022-01-09T14:14:27.088Z"
   },
   {
    "duration": 24,
    "start_time": "2022-01-09T14:14:28.494Z"
   },
   {
    "duration": 5,
    "start_time": "2022-01-09T14:14:30.253Z"
   },
   {
    "duration": 24,
    "start_time": "2022-01-09T14:14:31.448Z"
   },
   {
    "duration": 226,
    "start_time": "2022-01-09T14:20:02.098Z"
   },
   {
    "duration": 3202,
    "start_time": "2022-01-09T14:20:10.776Z"
   },
   {
    "duration": 11,
    "start_time": "2022-01-09T14:21:21.415Z"
   },
   {
    "duration": 20,
    "start_time": "2022-01-09T14:21:50.804Z"
   },
   {
    "duration": 24,
    "start_time": "2022-01-09T14:22:02.118Z"
   },
   {
    "duration": 61,
    "start_time": "2022-01-09T14:22:51.672Z"
   },
   {
    "duration": 80,
    "start_time": "2022-01-09T14:23:26.158Z"
   },
   {
    "duration": 62,
    "start_time": "2022-01-09T14:23:41.627Z"
   },
   {
    "duration": 53,
    "start_time": "2022-01-09T14:23:49.428Z"
   },
   {
    "duration": 2,
    "start_time": "2022-01-09T14:24:34.125Z"
   },
   {
    "duration": 3,
    "start_time": "2022-01-09T14:24:41.232Z"
   },
   {
    "duration": 3,
    "start_time": "2022-01-09T14:24:44.653Z"
   },
   {
    "duration": 125,
    "start_time": "2022-01-09T14:25:09.021Z"
   },
   {
    "duration": 7,
    "start_time": "2022-01-09T14:25:16.391Z"
   },
   {
    "duration": 7,
    "start_time": "2022-01-09T14:26:44.981Z"
   },
   {
    "duration": 2,
    "start_time": "2022-01-09T14:28:32.960Z"
   },
   {
    "duration": 66,
    "start_time": "2022-01-09T14:29:20.876Z"
   },
   {
    "duration": 44,
    "start_time": "2022-01-09T14:31:30.673Z"
   },
   {
    "duration": 41,
    "start_time": "2022-01-09T14:33:33.886Z"
   },
   {
    "duration": 42,
    "start_time": "2022-01-09T14:34:00.628Z"
   },
   {
    "duration": 42,
    "start_time": "2022-01-09T14:34:03.783Z"
   },
   {
    "duration": 48,
    "start_time": "2022-01-09T14:35:22.959Z"
   },
   {
    "duration": 8,
    "start_time": "2022-01-09T14:35:26.392Z"
   },
   {
    "duration": 3,
    "start_time": "2022-01-09T14:39:22.288Z"
   },
   {
    "duration": 271,
    "start_time": "2022-01-09T14:41:32.916Z"
   },
   {
    "duration": 3,
    "start_time": "2022-01-09T14:41:43.454Z"
   },
   {
    "duration": 3,
    "start_time": "2022-01-09T14:42:44.345Z"
   },
   {
    "duration": 249,
    "start_time": "2022-01-09T14:42:46.097Z"
   },
   {
    "duration": 253,
    "start_time": "2022-01-09T14:44:58.603Z"
   },
   {
    "duration": 3,
    "start_time": "2022-01-09T14:45:42.660Z"
   },
   {
    "duration": 18,
    "start_time": "2022-01-09T14:45:46.000Z"
   },
   {
    "duration": 16,
    "start_time": "2022-01-09T14:45:49.006Z"
   },
   {
    "duration": 7,
    "start_time": "2022-01-09T14:46:07.116Z"
   },
   {
    "duration": 53,
    "start_time": "2022-01-09T14:55:00.125Z"
   },
   {
    "duration": 43,
    "start_time": "2022-01-09T14:55:18.009Z"
   },
   {
    "duration": 3672,
    "start_time": "2022-01-09T14:56:02.569Z"
   },
   {
    "duration": 3579,
    "start_time": "2022-01-09T14:56:07.017Z"
   },
   {
    "duration": 16,
    "start_time": "2022-01-09T14:56:38.908Z"
   },
   {
    "duration": 17,
    "start_time": "2022-01-09T15:02:29.211Z"
   },
   {
    "duration": 48,
    "start_time": "2022-01-09T15:18:40.121Z"
   },
   {
    "duration": 45,
    "start_time": "2022-01-09T15:21:05.664Z"
   },
   {
    "duration": 5,
    "start_time": "2022-01-09T15:21:21.567Z"
   },
   {
    "duration": 271,
    "start_time": "2022-01-09T15:22:11.803Z"
   },
   {
    "duration": 4,
    "start_time": "2022-01-09T15:22:32.128Z"
   },
   {
    "duration": 294,
    "start_time": "2022-01-09T15:22:36.555Z"
   },
   {
    "duration": 4,
    "start_time": "2022-01-09T15:22:58.694Z"
   },
   {
    "duration": 777,
    "start_time": "2022-01-09T15:23:00.875Z"
   },
   {
    "duration": 76,
    "start_time": "2022-01-09T15:23:42.977Z"
   },
   {
    "duration": 47,
    "start_time": "2022-01-09T15:24:11.273Z"
   },
   {
    "duration": 4,
    "start_time": "2022-01-09T15:24:20.584Z"
   },
   {
    "duration": 692,
    "start_time": "2022-01-09T15:24:23.321Z"
   },
   {
    "duration": 4,
    "start_time": "2022-01-09T15:25:17.888Z"
   },
   {
    "duration": 626,
    "start_time": "2022-01-09T15:25:21.420Z"
   },
   {
    "duration": 4,
    "start_time": "2022-01-09T15:26:00.010Z"
   },
   {
    "duration": 667,
    "start_time": "2022-01-09T15:26:04.453Z"
   },
   {
    "duration": 6,
    "start_time": "2022-01-09T15:28:19.907Z"
   },
   {
    "duration": 406,
    "start_time": "2022-01-09T15:28:22.040Z"
   },
   {
    "duration": 57,
    "start_time": "2022-01-09T15:29:46.734Z"
   },
   {
    "duration": 4,
    "start_time": "2022-01-09T15:35:40.578Z"
   },
   {
    "duration": 683,
    "start_time": "2022-01-09T15:35:44.184Z"
   },
   {
    "duration": 47,
    "start_time": "2022-01-09T15:41:56.925Z"
   },
   {
    "duration": 41,
    "start_time": "2022-01-09T15:42:12.777Z"
   },
   {
    "duration": 89,
    "start_time": "2022-01-10T03:47:36.503Z"
   },
   {
    "duration": 83,
    "start_time": "2022-01-10T03:47:54.057Z"
   },
   {
    "duration": 783,
    "start_time": "2022-01-10T03:48:16.237Z"
   },
   {
    "duration": 195,
    "start_time": "2022-01-10T03:48:17.023Z"
   },
   {
    "duration": 26,
    "start_time": "2022-01-10T03:48:17.221Z"
   },
   {
    "duration": 13,
    "start_time": "2022-01-10T03:48:17.262Z"
   },
   {
    "duration": 7,
    "start_time": "2022-01-10T03:48:17.277Z"
   },
   {
    "duration": 29,
    "start_time": "2022-01-10T03:48:17.286Z"
   },
   {
    "duration": 6,
    "start_time": "2022-01-10T03:48:17.318Z"
   },
   {
    "duration": 39,
    "start_time": "2022-01-10T03:48:17.363Z"
   },
   {
    "duration": 25,
    "start_time": "2022-01-10T03:48:17.406Z"
   },
   {
    "duration": 61,
    "start_time": "2022-01-10T03:48:17.433Z"
   },
   {
    "duration": 109,
    "start_time": "2022-01-10T03:48:17.497Z"
   },
   {
    "duration": 124,
    "start_time": "2022-01-10T03:48:17.609Z"
   },
   {
    "duration": 95,
    "start_time": "2022-01-10T03:48:17.736Z"
   },
   {
    "duration": 12,
    "start_time": "2022-01-10T03:48:17.834Z"
   },
   {
    "duration": 17,
    "start_time": "2022-01-10T03:48:17.849Z"
   },
   {
    "duration": 24,
    "start_time": "2022-01-10T03:48:17.870Z"
   },
   {
    "duration": 12,
    "start_time": "2022-01-10T03:48:17.897Z"
   },
   {
    "duration": 59,
    "start_time": "2022-01-10T03:48:17.912Z"
   },
   {
    "duration": 28,
    "start_time": "2022-01-10T03:48:17.974Z"
   },
   {
    "duration": 91,
    "start_time": "2022-01-10T03:48:18.005Z"
   },
   {
    "duration": -7,
    "start_time": "2022-01-10T03:48:18.107Z"
   },
   {
    "duration": -9,
    "start_time": "2022-01-10T03:48:18.110Z"
   },
   {
    "duration": -12,
    "start_time": "2022-01-10T03:48:18.114Z"
   },
   {
    "duration": -14,
    "start_time": "2022-01-10T03:48:18.118Z"
   },
   {
    "duration": -22,
    "start_time": "2022-01-10T03:48:18.127Z"
   },
   {
    "duration": -23,
    "start_time": "2022-01-10T03:48:18.130Z"
   },
   {
    "duration": -39,
    "start_time": "2022-01-10T03:48:18.147Z"
   },
   {
    "duration": -42,
    "start_time": "2022-01-10T03:48:18.151Z"
   },
   {
    "duration": -48,
    "start_time": "2022-01-10T03:48:18.159Z"
   },
   {
    "duration": -51,
    "start_time": "2022-01-10T03:48:18.163Z"
   },
   {
    "duration": -53,
    "start_time": "2022-01-10T03:48:18.167Z"
   },
   {
    "duration": -60,
    "start_time": "2022-01-10T03:48:18.175Z"
   },
   {
    "duration": -61,
    "start_time": "2022-01-10T03:48:18.178Z"
   },
   {
    "duration": -63,
    "start_time": "2022-01-10T03:48:18.181Z"
   },
   {
    "duration": -66,
    "start_time": "2022-01-10T03:48:18.185Z"
   },
   {
    "duration": -67,
    "start_time": "2022-01-10T03:48:18.188Z"
   },
   {
    "duration": -70,
    "start_time": "2022-01-10T03:48:18.192Z"
   },
   {
    "duration": -72,
    "start_time": "2022-01-10T03:48:18.195Z"
   },
   {
    "duration": 81,
    "start_time": "2022-01-10T03:48:36.323Z"
   },
   {
    "duration": 83,
    "start_time": "2022-01-10T03:48:59.068Z"
   },
   {
    "duration": 98,
    "start_time": "2022-01-10T03:49:05.892Z"
   },
   {
    "duration": 81,
    "start_time": "2022-01-10T03:49:19.507Z"
   },
   {
    "duration": 8,
    "start_time": "2022-01-10T03:54:39.316Z"
   },
   {
    "duration": 325,
    "start_time": "2022-01-10T03:55:14.472Z"
   },
   {
    "duration": 6,
    "start_time": "2022-01-10T03:55:19.467Z"
   },
   {
    "duration": 644,
    "start_time": "2022-01-10T03:55:25.283Z"
   },
   {
    "duration": 764,
    "start_time": "2022-01-10T03:55:33.689Z"
   },
   {
    "duration": 189,
    "start_time": "2022-01-10T03:55:34.456Z"
   },
   {
    "duration": 32,
    "start_time": "2022-01-10T03:55:34.648Z"
   },
   {
    "duration": 11,
    "start_time": "2022-01-10T03:55:34.684Z"
   },
   {
    "duration": 7,
    "start_time": "2022-01-10T03:55:34.698Z"
   },
   {
    "duration": 69,
    "start_time": "2022-01-10T03:55:34.708Z"
   },
   {
    "duration": 7,
    "start_time": "2022-01-10T03:55:34.780Z"
   },
   {
    "duration": 34,
    "start_time": "2022-01-10T03:55:34.793Z"
   },
   {
    "duration": 25,
    "start_time": "2022-01-10T03:55:34.862Z"
   },
   {
    "duration": 32,
    "start_time": "2022-01-10T03:55:34.890Z"
   },
   {
    "duration": 114,
    "start_time": "2022-01-10T03:55:34.925Z"
   },
   {
    "duration": 102,
    "start_time": "2022-01-10T03:55:35.042Z"
   },
   {
    "duration": 91,
    "start_time": "2022-01-10T03:55:35.146Z"
   },
   {
    "duration": 24,
    "start_time": "2022-01-10T03:55:35.240Z"
   },
   {
    "duration": 5,
    "start_time": "2022-01-10T03:55:35.267Z"
   },
   {
    "duration": 25,
    "start_time": "2022-01-10T03:55:35.275Z"
   },
   {
    "duration": 12,
    "start_time": "2022-01-10T03:55:35.303Z"
   },
   {
    "duration": 66,
    "start_time": "2022-01-10T03:55:35.317Z"
   },
   {
    "duration": 26,
    "start_time": "2022-01-10T03:55:35.386Z"
   },
   {
    "duration": 8,
    "start_time": "2022-01-10T03:55:35.415Z"
   },
   {
    "duration": 301,
    "start_time": "2022-01-10T03:55:42.828Z"
   },
   {
    "duration": 737,
    "start_time": "2022-01-10T03:55:50.382Z"
   },
   {
    "duration": 194,
    "start_time": "2022-01-10T03:55:54.566Z"
   },
   {
    "duration": 26,
    "start_time": "2022-01-10T03:55:55.967Z"
   },
   {
    "duration": 12,
    "start_time": "2022-01-10T03:55:59.284Z"
   },
   {
    "duration": 6,
    "start_time": "2022-01-10T03:56:03.007Z"
   },
   {
    "duration": 27,
    "start_time": "2022-01-10T03:56:04.627Z"
   },
   {
    "duration": 6,
    "start_time": "2022-01-10T03:56:06.320Z"
   },
   {
    "duration": 30,
    "start_time": "2022-01-10T03:56:07.741Z"
   },
   {
    "duration": 23,
    "start_time": "2022-01-10T03:56:09.806Z"
   },
   {
    "duration": 30,
    "start_time": "2022-01-10T03:56:11.421Z"
   },
   {
    "duration": 85,
    "start_time": "2022-01-10T03:56:13.272Z"
   },
   {
    "duration": 102,
    "start_time": "2022-01-10T03:56:14.770Z"
   },
   {
    "duration": 79,
    "start_time": "2022-01-10T03:56:16.216Z"
   },
   {
    "duration": 9,
    "start_time": "2022-01-10T03:56:18.579Z"
   },
   {
    "duration": 4,
    "start_time": "2022-01-10T03:56:21.368Z"
   },
   {
    "duration": 22,
    "start_time": "2022-01-10T03:56:22.538Z"
   },
   {
    "duration": 10,
    "start_time": "2022-01-10T03:56:24.863Z"
   },
   {
    "duration": 23,
    "start_time": "2022-01-10T03:56:28.128Z"
   },
   {
    "duration": 26,
    "start_time": "2022-01-10T03:56:29.480Z"
   },
   {
    "duration": 6,
    "start_time": "2022-01-10T03:56:30.988Z"
   },
   {
    "duration": 302,
    "start_time": "2022-01-10T03:56:43.172Z"
   },
   {
    "duration": 5,
    "start_time": "2022-01-10T03:56:48.147Z"
   },
   {
    "duration": 6,
    "start_time": "2022-01-10T03:56:53.233Z"
   },
   {
    "duration": 471,
    "start_time": "2022-01-10T03:56:56.961Z"
   },
   {
    "duration": 267,
    "start_time": "2022-01-10T03:57:06.030Z"
   },
   {
    "duration": 739,
    "start_time": "2022-01-10T03:57:09.584Z"
   },
   {
    "duration": 185,
    "start_time": "2022-01-10T03:57:11.714Z"
   },
   {
    "duration": 739,
    "start_time": "2022-01-10T03:57:24.095Z"
   },
   {
    "duration": 190,
    "start_time": "2022-01-10T03:57:24.837Z"
   },
   {
    "duration": 34,
    "start_time": "2022-01-10T03:57:25.030Z"
   },
   {
    "duration": 12,
    "start_time": "2022-01-10T03:57:25.067Z"
   },
   {
    "duration": 9,
    "start_time": "2022-01-10T03:57:25.082Z"
   },
   {
    "duration": 26,
    "start_time": "2022-01-10T03:57:25.093Z"
   },
   {
    "duration": 5,
    "start_time": "2022-01-10T03:57:25.122Z"
   },
   {
    "duration": 63,
    "start_time": "2022-01-10T03:57:25.129Z"
   },
   {
    "duration": 23,
    "start_time": "2022-01-10T03:57:25.196Z"
   },
   {
    "duration": 55,
    "start_time": "2022-01-10T03:57:25.222Z"
   },
   {
    "duration": 99,
    "start_time": "2022-01-10T03:57:25.279Z"
   },
   {
    "duration": 106,
    "start_time": "2022-01-10T03:57:25.380Z"
   },
   {
    "duration": 87,
    "start_time": "2022-01-10T03:57:25.488Z"
   },
   {
    "duration": 10,
    "start_time": "2022-01-10T03:57:25.577Z"
   },
   {
    "duration": 4,
    "start_time": "2022-01-10T03:57:25.589Z"
   },
   {
    "duration": 26,
    "start_time": "2022-01-10T03:57:25.595Z"
   },
   {
    "duration": 41,
    "start_time": "2022-01-10T03:57:25.623Z"
   },
   {
    "duration": 23,
    "start_time": "2022-01-10T03:57:25.666Z"
   },
   {
    "duration": 27,
    "start_time": "2022-01-10T03:57:25.691Z"
   },
   {
    "duration": 6,
    "start_time": "2022-01-10T03:57:25.720Z"
   },
   {
    "duration": 6,
    "start_time": "2022-01-10T03:58:58.649Z"
   },
   {
    "duration": 581,
    "start_time": "2022-01-10T03:59:03.834Z"
   },
   {
    "duration": 5,
    "start_time": "2022-01-10T04:08:15.914Z"
   },
   {
    "duration": 478,
    "start_time": "2022-01-10T04:08:19.246Z"
   },
   {
    "duration": 235,
    "start_time": "2022-01-10T04:08:27.579Z"
   },
   {
    "duration": 761,
    "start_time": "2022-01-10T04:08:33.780Z"
   },
   {
    "duration": 229,
    "start_time": "2022-01-10T04:08:34.544Z"
   },
   {
    "duration": 25,
    "start_time": "2022-01-10T04:08:34.776Z"
   },
   {
    "duration": 65,
    "start_time": "2022-01-10T04:08:34.804Z"
   },
   {
    "duration": 6,
    "start_time": "2022-01-10T04:08:34.871Z"
   },
   {
    "duration": 30,
    "start_time": "2022-01-10T04:08:34.879Z"
   },
   {
    "duration": 55,
    "start_time": "2022-01-10T04:08:34.911Z"
   },
   {
    "duration": 30,
    "start_time": "2022-01-10T04:08:34.970Z"
   },
   {
    "duration": 75,
    "start_time": "2022-01-10T04:08:35.004Z"
   },
   {
    "duration": 83,
    "start_time": "2022-01-10T04:08:35.082Z"
   },
   {
    "duration": 137,
    "start_time": "2022-01-10T04:08:35.168Z"
   },
   {
    "duration": 197,
    "start_time": "2022-01-10T04:08:35.307Z"
   },
   {
    "duration": 112,
    "start_time": "2022-01-10T04:08:35.506Z"
   },
   {
    "duration": 9,
    "start_time": "2022-01-10T04:08:35.665Z"
   },
   {
    "duration": 7,
    "start_time": "2022-01-10T04:08:35.677Z"
   },
   {
    "duration": 26,
    "start_time": "2022-01-10T04:08:35.686Z"
   },
   {
    "duration": 9,
    "start_time": "2022-01-10T04:08:35.714Z"
   },
   {
    "duration": 53,
    "start_time": "2022-01-10T04:08:35.726Z"
   },
   {
    "duration": 28,
    "start_time": "2022-01-10T04:08:35.781Z"
   },
   {
    "duration": 5,
    "start_time": "2022-01-10T04:08:35.812Z"
   },
   {
    "duration": 604,
    "start_time": "2022-01-10T04:08:35.819Z"
   },
   {
    "duration": -5,
    "start_time": "2022-01-10T04:08:36.431Z"
   },
   {
    "duration": -16,
    "start_time": "2022-01-10T04:08:36.444Z"
   },
   {
    "duration": -19,
    "start_time": "2022-01-10T04:08:36.448Z"
   },
   {
    "duration": -23,
    "start_time": "2022-01-10T04:08:36.453Z"
   },
   {
    "duration": -25,
    "start_time": "2022-01-10T04:08:36.457Z"
   },
   {
    "duration": -28,
    "start_time": "2022-01-10T04:08:36.461Z"
   },
   {
    "duration": -29,
    "start_time": "2022-01-10T04:08:36.464Z"
   },
   {
    "duration": -32,
    "start_time": "2022-01-10T04:08:36.468Z"
   },
   {
    "duration": -35,
    "start_time": "2022-01-10T04:08:36.473Z"
   },
   {
    "duration": -38,
    "start_time": "2022-01-10T04:08:36.478Z"
   },
   {
    "duration": -42,
    "start_time": "2022-01-10T04:08:36.483Z"
   },
   {
    "duration": -45,
    "start_time": "2022-01-10T04:08:36.487Z"
   },
   {
    "duration": -46,
    "start_time": "2022-01-10T04:08:36.490Z"
   },
   {
    "duration": -58,
    "start_time": "2022-01-10T04:08:36.503Z"
   },
   {
    "duration": -60,
    "start_time": "2022-01-10T04:08:36.507Z"
   },
   {
    "duration": -63,
    "start_time": "2022-01-10T04:08:36.511Z"
   },
   {
    "duration": -66,
    "start_time": "2022-01-10T04:08:36.516Z"
   },
   {
    "duration": 5,
    "start_time": "2022-01-10T04:08:56.315Z"
   },
   {
    "duration": 523,
    "start_time": "2022-01-10T04:08:59.451Z"
   },
   {
    "duration": 6,
    "start_time": "2022-01-10T04:09:16.421Z"
   },
   {
    "duration": 22,
    "start_time": "2022-01-10T04:09:19.096Z"
   },
   {
    "duration": 19,
    "start_time": "2022-01-10T04:09:45.753Z"
   },
   {
    "duration": 20,
    "start_time": "2022-01-10T04:11:08.576Z"
   },
   {
    "duration": 19,
    "start_time": "2022-01-10T04:11:10.867Z"
   },
   {
    "duration": 22,
    "start_time": "2022-01-10T04:11:13.436Z"
   },
   {
    "duration": 20,
    "start_time": "2022-01-10T04:11:15.568Z"
   },
   {
    "duration": 300,
    "start_time": "2022-01-10T04:21:34.268Z"
   },
   {
    "duration": 12,
    "start_time": "2022-01-10T04:22:54.548Z"
   },
   {
    "duration": 16,
    "start_time": "2022-01-10T04:25:48.534Z"
   },
   {
    "duration": 31,
    "start_time": "2022-01-10T04:25:59.918Z"
   },
   {
    "duration": 15,
    "start_time": "2022-01-10T04:26:08.080Z"
   },
   {
    "duration": 13,
    "start_time": "2022-01-10T04:26:32.217Z"
   },
   {
    "duration": 8,
    "start_time": "2022-01-10T04:38:37.451Z"
   },
   {
    "duration": 517,
    "start_time": "2022-01-10T04:39:18.434Z"
   },
   {
    "duration": 6,
    "start_time": "2022-01-10T04:39:30.824Z"
   },
   {
    "duration": 31,
    "start_time": "2022-01-10T04:39:34.407Z"
   },
   {
    "duration": 31,
    "start_time": "2022-01-10T04:39:53.554Z"
   },
   {
    "duration": 6,
    "start_time": "2022-01-10T04:40:06.584Z"
   },
   {
    "duration": 33,
    "start_time": "2022-01-10T04:40:08.782Z"
   },
   {
    "duration": 6,
    "start_time": "2022-01-10T04:40:48.170Z"
   },
   {
    "duration": 33,
    "start_time": "2022-01-10T04:40:50.999Z"
   },
   {
    "duration": 5,
    "start_time": "2022-01-10T04:41:24.455Z"
   },
   {
    "duration": 33,
    "start_time": "2022-01-10T04:41:26.992Z"
   },
   {
    "duration": 32,
    "start_time": "2022-01-10T04:41:41.696Z"
   },
   {
    "duration": 25,
    "start_time": "2022-01-10T04:43:08.287Z"
   },
   {
    "duration": 33,
    "start_time": "2022-01-10T04:43:11.747Z"
   },
   {
    "duration": 26,
    "start_time": "2022-01-10T04:43:14.863Z"
   },
   {
    "duration": 5,
    "start_time": "2022-01-10T04:44:47.005Z"
   },
   {
    "duration": 481,
    "start_time": "2022-01-10T04:44:50.125Z"
   },
   {
    "duration": 5,
    "start_time": "2022-01-10T04:45:08.924Z"
   },
   {
    "duration": 497,
    "start_time": "2022-01-10T04:45:11.651Z"
   },
   {
    "duration": 5,
    "start_time": "2022-01-10T04:45:29.615Z"
   },
   {
    "duration": 34,
    "start_time": "2022-01-10T04:45:34.015Z"
   },
   {
    "duration": 6,
    "start_time": "2022-01-10T04:47:32.489Z"
   },
   {
    "duration": 837,
    "start_time": "2022-01-10T04:47:34.788Z"
   },
   {
    "duration": 5,
    "start_time": "2022-01-10T04:47:52.220Z"
   },
   {
    "duration": 512,
    "start_time": "2022-01-10T04:47:54.674Z"
   },
   {
    "duration": 524,
    "start_time": "2022-01-10T04:47:58.392Z"
   },
   {
    "duration": 33,
    "start_time": "2022-01-10T04:48:14.125Z"
   },
   {
    "duration": 6,
    "start_time": "2022-01-10T04:48:25.740Z"
   },
   {
    "duration": 670,
    "start_time": "2022-01-10T04:48:29.920Z"
   },
   {
    "duration": 6,
    "start_time": "2022-01-10T04:48:42.396Z"
   },
   {
    "duration": 574,
    "start_time": "2022-01-10T04:48:45.156Z"
   },
   {
    "duration": 6,
    "start_time": "2022-01-10T04:49:31.292Z"
   },
   {
    "duration": 33,
    "start_time": "2022-01-10T04:49:33.791Z"
   },
   {
    "duration": 5,
    "start_time": "2022-01-10T04:50:23.934Z"
   },
   {
    "duration": 583,
    "start_time": "2022-01-10T04:50:27.450Z"
   },
   {
    "duration": 6,
    "start_time": "2022-01-10T04:50:45.598Z"
   },
   {
    "duration": 494,
    "start_time": "2022-01-10T04:50:47.438Z"
   },
   {
    "duration": 7,
    "start_time": "2022-01-10T04:51:11.714Z"
   },
   {
    "duration": 26,
    "start_time": "2022-01-10T04:51:13.770Z"
   },
   {
    "duration": 28,
    "start_time": "2022-01-10T04:51:29.211Z"
   },
   {
    "duration": 26,
    "start_time": "2022-01-10T04:51:36.439Z"
   },
   {
    "duration": 20,
    "start_time": "2022-01-10T04:51:38.760Z"
   },
   {
    "duration": 25,
    "start_time": "2022-01-10T04:51:41.387Z"
   },
   {
    "duration": 21,
    "start_time": "2022-01-10T04:51:43.847Z"
   },
   {
    "duration": 14,
    "start_time": "2022-01-10T04:56:53.758Z"
   },
   {
    "duration": 8,
    "start_time": "2022-01-10T04:57:09.189Z"
   },
   {
    "duration": 15,
    "start_time": "2022-01-10T04:57:34.765Z"
   },
   {
    "duration": 11,
    "start_time": "2022-01-10T04:57:43.042Z"
   },
   {
    "duration": 7,
    "start_time": "2022-01-10T04:57:56.836Z"
   },
   {
    "duration": 867,
    "start_time": "2022-01-11T12:52:26.368Z"
   },
   {
    "duration": 933,
    "start_time": "2022-01-11T12:52:27.238Z"
   },
   {
    "duration": 37,
    "start_time": "2022-01-11T12:52:28.175Z"
   },
   {
    "duration": 12,
    "start_time": "2022-01-11T12:52:28.215Z"
   },
   {
    "duration": 32,
    "start_time": "2022-01-11T12:52:28.230Z"
   },
   {
    "duration": 36,
    "start_time": "2022-01-11T12:52:28.264Z"
   },
   {
    "duration": 8,
    "start_time": "2022-01-11T12:52:28.304Z"
   },
   {
    "duration": 80,
    "start_time": "2022-01-11T12:52:28.315Z"
   },
   {
    "duration": 23,
    "start_time": "2022-01-11T12:52:28.400Z"
   },
   {
    "duration": 50,
    "start_time": "2022-01-11T12:52:28.426Z"
   },
   {
    "duration": 124,
    "start_time": "2022-01-11T12:52:28.479Z"
   },
   {
    "duration": 136,
    "start_time": "2022-01-11T12:52:28.606Z"
   },
   {
    "duration": 94,
    "start_time": "2022-01-11T12:52:28.744Z"
   },
   {
    "duration": 21,
    "start_time": "2022-01-11T12:52:28.841Z"
   },
   {
    "duration": 5,
    "start_time": "2022-01-11T12:52:28.865Z"
   },
   {
    "duration": 35,
    "start_time": "2022-01-11T12:52:28.873Z"
   },
   {
    "duration": 48,
    "start_time": "2022-01-11T12:52:28.911Z"
   },
   {
    "duration": 43,
    "start_time": "2022-01-11T12:52:28.962Z"
   },
   {
    "duration": 27,
    "start_time": "2022-01-11T12:52:29.007Z"
   },
   {
    "duration": 9,
    "start_time": "2022-01-11T12:52:29.062Z"
   },
   {
    "duration": 42,
    "start_time": "2022-01-11T12:52:29.077Z"
   },
   {
    "duration": 21,
    "start_time": "2022-01-11T12:52:29.121Z"
   },
   {
    "duration": 23,
    "start_time": "2022-01-11T12:52:29.163Z"
   },
   {
    "duration": 22,
    "start_time": "2022-01-11T12:52:29.189Z"
   },
   {
    "duration": 54,
    "start_time": "2022-01-11T12:52:29.215Z"
   },
   {
    "duration": 22,
    "start_time": "2022-01-11T12:52:29.272Z"
   },
   {
    "duration": 11,
    "start_time": "2022-01-11T12:52:29.300Z"
   },
   {
    "duration": 63,
    "start_time": "2022-01-11T12:52:29.315Z"
   },
   {
    "duration": 17,
    "start_time": "2022-01-11T12:52:29.382Z"
   },
   {
    "duration": 6,
    "start_time": "2022-01-11T12:52:29.403Z"
   },
   {
    "duration": 68,
    "start_time": "2022-01-11T12:52:29.412Z"
   },
   {
    "duration": 19,
    "start_time": "2022-01-11T12:52:29.483Z"
   },
   {
    "duration": 26,
    "start_time": "2022-01-11T12:52:29.505Z"
   },
   {
    "duration": 44,
    "start_time": "2022-01-11T12:52:29.533Z"
   },
   {
    "duration": 25,
    "start_time": "2022-01-11T12:52:29.581Z"
   },
   {
    "duration": 8,
    "start_time": "2022-01-11T12:52:29.608Z"
   },
   {
    "duration": 10,
    "start_time": "2022-01-11T12:52:29.618Z"
   },
   {
    "duration": 7,
    "start_time": "2022-01-11T12:52:29.658Z"
   },
   {
    "duration": 130,
    "start_time": "2022-01-11T16:28:44.391Z"
   },
   {
    "duration": 1087,
    "start_time": "2022-01-11T17:05:23.249Z"
   },
   {
    "duration": 638,
    "start_time": "2022-01-11T17:05:24.339Z"
   },
   {
    "duration": 30,
    "start_time": "2022-01-11T17:05:24.980Z"
   },
   {
    "duration": 166,
    "start_time": "2022-01-11T17:05:25.024Z"
   },
   {
    "duration": 177,
    "start_time": "2022-01-11T17:05:25.193Z"
   },
   {
    "duration": 237,
    "start_time": "2022-01-11T17:05:25.373Z"
   },
   {
    "duration": 238,
    "start_time": "2022-01-11T17:05:25.613Z"
   },
   {
    "duration": 180,
    "start_time": "2022-01-11T17:05:25.854Z"
   },
   {
    "duration": 241,
    "start_time": "2022-01-11T17:05:26.038Z"
   },
   {
    "duration": 220,
    "start_time": "2022-01-11T17:05:26.282Z"
   },
   {
    "duration": 293,
    "start_time": "2022-01-11T17:05:26.505Z"
   },
   {
    "duration": 528,
    "start_time": "2022-01-11T17:05:26.801Z"
   },
   {
    "duration": 188,
    "start_time": "2022-01-11T17:05:27.332Z"
   },
   {
    "duration": 112,
    "start_time": "2022-01-11T17:05:27.524Z"
   },
   {
    "duration": 173,
    "start_time": "2022-01-11T17:05:27.639Z"
   },
   {
    "duration": 296,
    "start_time": "2022-01-11T17:05:27.815Z"
   },
   {
    "duration": 166,
    "start_time": "2022-01-11T17:05:28.115Z"
   },
   {
    "duration": 171,
    "start_time": "2022-01-11T17:05:28.284Z"
   },
   {
    "duration": 159,
    "start_time": "2022-01-11T17:05:28.457Z"
   },
   {
    "duration": 153,
    "start_time": "2022-01-11T17:05:28.619Z"
   },
   {
    "duration": 334,
    "start_time": "2022-01-11T17:05:28.775Z"
   },
   {
    "duration": 161,
    "start_time": "2022-01-11T17:05:29.111Z"
   },
   {
    "duration": 228,
    "start_time": "2022-01-11T17:05:29.274Z"
   },
   {
    "duration": 202,
    "start_time": "2022-01-11T17:05:29.505Z"
   },
   {
    "duration": 258,
    "start_time": "2022-01-11T17:05:29.710Z"
   },
   {
    "duration": 281,
    "start_time": "2022-01-11T17:05:29.971Z"
   },
   {
    "duration": 269,
    "start_time": "2022-01-11T17:05:30.257Z"
   },
   {
    "duration": 276,
    "start_time": "2022-01-11T17:05:30.529Z"
   },
   {
    "duration": 137,
    "start_time": "2022-01-11T17:05:30.808Z"
   },
   {
    "duration": 203,
    "start_time": "2022-01-11T17:05:30.948Z"
   },
   {
    "duration": 220,
    "start_time": "2022-01-11T17:05:31.153Z"
   },
   {
    "duration": 358,
    "start_time": "2022-01-11T17:05:31.375Z"
   },
   {
    "duration": 301,
    "start_time": "2022-01-11T17:05:31.736Z"
   },
   {
    "duration": 148,
    "start_time": "2022-01-11T17:05:32.040Z"
   },
   {
    "duration": 230,
    "start_time": "2022-01-11T17:05:32.191Z"
   },
   {
    "duration": 83,
    "start_time": "2022-01-11T17:05:32.424Z"
   },
   {
    "duration": 201,
    "start_time": "2022-01-11T17:05:32.510Z"
   },
   {
    "duration": 152,
    "start_time": "2022-01-11T17:05:32.714Z"
   },
   {
    "duration": 360,
    "start_time": "2022-01-12T03:58:14.093Z"
   },
   {
    "duration": 818,
    "start_time": "2022-01-12T03:58:21.887Z"
   },
   {
    "duration": 191,
    "start_time": "2022-01-12T03:58:22.711Z"
   },
   {
    "duration": 28,
    "start_time": "2022-01-12T03:58:22.905Z"
   },
   {
    "duration": 33,
    "start_time": "2022-01-12T03:58:22.936Z"
   },
   {
    "duration": 20,
    "start_time": "2022-01-12T03:58:22.972Z"
   },
   {
    "duration": 44,
    "start_time": "2022-01-12T03:58:22.995Z"
   },
   {
    "duration": 22,
    "start_time": "2022-01-12T03:58:23.042Z"
   },
   {
    "duration": 48,
    "start_time": "2022-01-12T03:58:23.069Z"
   },
   {
    "duration": 26,
    "start_time": "2022-01-12T03:58:23.120Z"
   },
   {
    "duration": 30,
    "start_time": "2022-01-12T03:58:23.148Z"
   },
   {
    "duration": 128,
    "start_time": "2022-01-12T03:58:23.180Z"
   },
   {
    "duration": 111,
    "start_time": "2022-01-12T03:58:23.316Z"
   },
   {
    "duration": 76,
    "start_time": "2022-01-12T03:58:23.430Z"
   },
   {
    "duration": 13,
    "start_time": "2022-01-12T03:58:23.518Z"
   },
   {
    "duration": 6,
    "start_time": "2022-01-12T03:58:23.534Z"
   },
   {
    "duration": 27,
    "start_time": "2022-01-12T03:58:23.543Z"
   },
   {
    "duration": 8,
    "start_time": "2022-01-12T03:58:23.573Z"
   },
   {
    "duration": 58,
    "start_time": "2022-01-12T03:58:23.584Z"
   },
   {
    "duration": 26,
    "start_time": "2022-01-12T03:58:23.645Z"
   },
   {
    "duration": 13,
    "start_time": "2022-01-12T03:58:23.673Z"
   },
   {
    "duration": 52,
    "start_time": "2022-01-12T03:58:23.688Z"
   },
   {
    "duration": 19,
    "start_time": "2022-01-12T03:58:23.743Z"
   },
   {
    "duration": 19,
    "start_time": "2022-01-12T03:58:23.767Z"
   },
   {
    "duration": 56,
    "start_time": "2022-01-12T03:58:23.789Z"
   },
   {
    "duration": 29,
    "start_time": "2022-01-12T03:58:23.848Z"
   },
   {
    "duration": 18,
    "start_time": "2022-01-12T03:58:23.880Z"
   },
   {
    "duration": 27,
    "start_time": "2022-01-12T03:58:23.900Z"
   },
   {
    "duration": 55,
    "start_time": "2022-01-12T03:58:23.930Z"
   },
   {
    "duration": 12,
    "start_time": "2022-01-12T03:58:23.988Z"
   },
   {
    "duration": 26,
    "start_time": "2022-01-12T03:58:24.002Z"
   },
   {
    "duration": 45,
    "start_time": "2022-01-12T03:58:24.030Z"
   },
   {
    "duration": 40,
    "start_time": "2022-01-12T03:58:24.078Z"
   },
   {
    "duration": 29,
    "start_time": "2022-01-12T03:58:24.121Z"
   },
   {
    "duration": 18,
    "start_time": "2022-01-12T03:58:24.152Z"
   },
   {
    "duration": 19,
    "start_time": "2022-01-12T03:58:24.172Z"
   },
   {
    "duration": 31,
    "start_time": "2022-01-12T03:58:24.193Z"
   },
   {
    "duration": 24,
    "start_time": "2022-01-12T03:58:24.227Z"
   },
   {
    "duration": 6,
    "start_time": "2022-01-12T03:58:24.253Z"
   },
   {
    "duration": 5,
    "start_time": "2022-01-12T04:05:34.369Z"
   },
   {
    "duration": 22,
    "start_time": "2022-01-12T04:05:59.772Z"
   },
   {
    "duration": 5,
    "start_time": "2022-01-12T04:06:04.822Z"
   },
   {
    "duration": 4,
    "start_time": "2022-01-12T04:10:08.800Z"
   },
   {
    "duration": 3,
    "start_time": "2022-01-12T04:10:13.112Z"
   },
   {
    "duration": 28,
    "start_time": "2022-01-12T04:10:16.142Z"
   },
   {
    "duration": 11,
    "start_time": "2022-01-12T04:10:42.319Z"
   },
   {
    "duration": 36,
    "start_time": "2022-01-12T04:10:44.988Z"
   },
   {
    "duration": 42,
    "start_time": "2022-01-12T04:11:11.041Z"
   },
   {
    "duration": 28,
    "start_time": "2022-01-12T04:11:13.436Z"
   },
   {
    "duration": 40,
    "start_time": "2022-01-12T04:12:20.328Z"
   },
   {
    "duration": 20,
    "start_time": "2022-01-12T04:12:54.430Z"
   },
   {
    "duration": 37,
    "start_time": "2022-01-12T04:12:58.003Z"
   },
   {
    "duration": 55,
    "start_time": "2022-01-12T04:13:41.804Z"
   },
   {
    "duration": 57,
    "start_time": "2022-01-12T04:14:30.661Z"
   },
   {
    "duration": 3,
    "start_time": "2022-01-12T04:14:45.065Z"
   },
   {
    "duration": 59,
    "start_time": "2022-01-12T04:14:50.875Z"
   },
   {
    "duration": 42,
    "start_time": "2022-01-12T04:17:51.186Z"
   },
   {
    "duration": 16,
    "start_time": "2022-01-12T04:18:25.412Z"
   },
   {
    "duration": 720,
    "start_time": "2022-01-12T20:42:30.051Z"
   },
   {
    "duration": 203,
    "start_time": "2022-01-12T20:42:30.774Z"
   },
   {
    "duration": 34,
    "start_time": "2022-01-12T20:42:30.981Z"
   },
   {
    "duration": 35,
    "start_time": "2022-01-12T20:42:31.019Z"
   },
   {
    "duration": 45,
    "start_time": "2022-01-12T20:42:31.057Z"
   },
   {
    "duration": 29,
    "start_time": "2022-01-12T20:42:31.105Z"
   },
   {
    "duration": 22,
    "start_time": "2022-01-12T20:42:31.136Z"
   },
   {
    "duration": 49,
    "start_time": "2022-01-12T20:42:31.162Z"
   },
   {
    "duration": 29,
    "start_time": "2022-01-12T20:42:31.214Z"
   },
   {
    "duration": 32,
    "start_time": "2022-01-12T20:42:31.245Z"
   },
   {
    "duration": 110,
    "start_time": "2022-01-12T20:42:31.279Z"
   },
   {
    "duration": 126,
    "start_time": "2022-01-12T20:42:31.400Z"
   },
   {
    "duration": 93,
    "start_time": "2022-01-12T20:42:31.529Z"
   },
   {
    "duration": 56,
    "start_time": "2022-01-12T20:42:31.624Z"
   },
   {
    "duration": 21,
    "start_time": "2022-01-12T20:42:31.682Z"
   },
   {
    "duration": 25,
    "start_time": "2022-01-12T20:42:31.705Z"
   },
   {
    "duration": 75,
    "start_time": "2022-01-12T20:42:31.733Z"
   },
   {
    "duration": 46,
    "start_time": "2022-01-12T20:42:31.810Z"
   },
   {
    "duration": 44,
    "start_time": "2022-01-12T20:42:31.859Z"
   },
   {
    "duration": 5,
    "start_time": "2022-01-12T20:42:31.905Z"
   },
   {
    "duration": 23,
    "start_time": "2022-01-12T20:42:31.912Z"
   },
   {
    "duration": 19,
    "start_time": "2022-01-12T20:42:31.938Z"
   },
   {
    "duration": 51,
    "start_time": "2022-01-12T20:42:31.962Z"
   },
   {
    "duration": 19,
    "start_time": "2022-01-12T20:42:32.016Z"
   },
   {
    "duration": 36,
    "start_time": "2022-01-12T20:42:32.037Z"
   },
   {
    "duration": 34,
    "start_time": "2022-01-12T20:42:32.075Z"
   },
   {
    "duration": 41,
    "start_time": "2022-01-12T20:42:32.112Z"
   },
   {
    "duration": 62,
    "start_time": "2022-01-12T20:42:32.156Z"
   },
   {
    "duration": 15,
    "start_time": "2022-01-12T20:42:32.221Z"
   },
   {
    "duration": 18,
    "start_time": "2022-01-12T20:42:32.239Z"
   },
   {
    "duration": 49,
    "start_time": "2022-01-12T20:42:32.259Z"
   },
   {
    "duration": 33,
    "start_time": "2022-01-12T20:42:32.310Z"
   },
   {
    "duration": 37,
    "start_time": "2022-01-12T20:42:32.345Z"
   },
   {
    "duration": 29,
    "start_time": "2022-01-12T20:42:32.385Z"
   },
   {
    "duration": 27,
    "start_time": "2022-01-12T20:42:32.416Z"
   },
   {
    "duration": 7,
    "start_time": "2022-01-12T20:42:32.445Z"
   },
   {
    "duration": 13,
    "start_time": "2022-01-12T20:42:32.454Z"
   },
   {
    "duration": 6,
    "start_time": "2022-01-12T20:42:32.470Z"
   },
   {
    "duration": 113,
    "start_time": "2022-01-12T20:56:24.755Z"
   },
   {
    "duration": 731,
    "start_time": "2022-01-12T20:59:57.544Z"
   },
   {
    "duration": 195,
    "start_time": "2022-01-12T20:59:58.277Z"
   },
   {
    "duration": 32,
    "start_time": "2022-01-12T20:59:58.476Z"
   },
   {
    "duration": 34,
    "start_time": "2022-01-12T20:59:58.511Z"
   },
   {
    "duration": 5,
    "start_time": "2022-01-12T20:59:58.547Z"
   },
   {
    "duration": 61,
    "start_time": "2022-01-12T20:59:58.555Z"
   },
   {
    "duration": 9,
    "start_time": "2022-01-12T20:59:58.618Z"
   },
   {
    "duration": 33,
    "start_time": "2022-01-12T20:59:58.629Z"
   },
   {
    "duration": 44,
    "start_time": "2022-01-12T20:59:58.666Z"
   },
   {
    "duration": 31,
    "start_time": "2022-01-12T20:59:58.713Z"
   },
   {
    "duration": 121,
    "start_time": "2022-01-12T20:59:58.747Z"
   },
   {
    "duration": 116,
    "start_time": "2022-01-12T20:59:58.870Z"
   },
   {
    "duration": 88,
    "start_time": "2022-01-12T20:59:58.989Z"
   },
   {
    "duration": 68,
    "start_time": "2022-01-12T20:59:59.079Z"
   },
   {
    "duration": 5,
    "start_time": "2022-01-12T20:59:59.150Z"
   },
   {
    "duration": 45,
    "start_time": "2022-01-12T20:59:59.157Z"
   },
   {
    "duration": 60,
    "start_time": "2022-01-12T20:59:59.204Z"
   },
   {
    "duration": 66,
    "start_time": "2022-01-12T20:59:59.266Z"
   },
   {
    "duration": 15,
    "start_time": "2022-01-12T20:59:59.334Z"
   },
   {
    "duration": 4,
    "start_time": "2022-01-12T20:59:59.352Z"
   },
   {
    "duration": 46,
    "start_time": "2022-01-12T20:59:59.359Z"
   },
   {
    "duration": 18,
    "start_time": "2022-01-12T20:59:59.407Z"
   },
   {
    "duration": 33,
    "start_time": "2022-01-12T20:59:59.428Z"
   },
   {
    "duration": 39,
    "start_time": "2022-01-12T20:59:59.464Z"
   },
   {
    "duration": 23,
    "start_time": "2022-01-12T20:59:59.505Z"
   },
   {
    "duration": 19,
    "start_time": "2022-01-12T20:59:59.530Z"
   },
   {
    "duration": 48,
    "start_time": "2022-01-12T20:59:59.554Z"
   },
   {
    "duration": 32,
    "start_time": "2022-01-12T20:59:59.605Z"
   },
   {
    "duration": 12,
    "start_time": "2022-01-12T20:59:59.640Z"
   },
   {
    "duration": 6,
    "start_time": "2022-01-12T20:59:59.654Z"
   },
   {
    "duration": 63,
    "start_time": "2022-01-12T20:59:59.662Z"
   },
   {
    "duration": 18,
    "start_time": "2022-01-12T20:59:59.727Z"
   },
   {
    "duration": 24,
    "start_time": "2022-01-12T20:59:59.748Z"
   },
   {
    "duration": 19,
    "start_time": "2022-01-12T20:59:59.801Z"
   },
   {
    "duration": 13,
    "start_time": "2022-01-12T20:59:59.822Z"
   },
   {
    "duration": 7,
    "start_time": "2022-01-12T20:59:59.838Z"
   },
   {
    "duration": 11,
    "start_time": "2022-01-12T20:59:59.847Z"
   },
   {
    "duration": 44,
    "start_time": "2022-01-12T20:59:59.860Z"
   },
   {
    "duration": 368,
    "start_time": "2022-01-13T04:00:39.837Z"
   },
   {
    "duration": 794,
    "start_time": "2022-01-13T04:00:46.638Z"
   },
   {
    "duration": 188,
    "start_time": "2022-01-13T04:00:47.435Z"
   },
   {
    "duration": 33,
    "start_time": "2022-01-13T04:00:47.626Z"
   },
   {
    "duration": 35,
    "start_time": "2022-01-13T04:00:47.662Z"
   },
   {
    "duration": 7,
    "start_time": "2022-01-13T04:00:47.700Z"
   },
   {
    "duration": 69,
    "start_time": "2022-01-13T04:00:47.710Z"
   },
   {
    "duration": 6,
    "start_time": "2022-01-13T04:00:47.782Z"
   },
   {
    "duration": 37,
    "start_time": "2022-01-13T04:00:47.794Z"
   },
   {
    "duration": 29,
    "start_time": "2022-01-13T04:00:47.858Z"
   },
   {
    "duration": 37,
    "start_time": "2022-01-13T04:00:47.890Z"
   },
   {
    "duration": 113,
    "start_time": "2022-01-13T04:00:47.930Z"
   },
   {
    "duration": 133,
    "start_time": "2022-01-13T04:00:48.046Z"
   },
   {
    "duration": 93,
    "start_time": "2022-01-13T04:00:48.181Z"
   },
   {
    "duration": 56,
    "start_time": "2022-01-13T04:00:48.277Z"
   },
   {
    "duration": 25,
    "start_time": "2022-01-13T04:00:48.335Z"
   },
   {
    "duration": 28,
    "start_time": "2022-01-13T04:00:48.363Z"
   },
   {
    "duration": 94,
    "start_time": "2022-01-13T04:00:48.394Z"
   },
   {
    "duration": 84,
    "start_time": "2022-01-13T04:00:48.491Z"
   },
   {
    "duration": 21,
    "start_time": "2022-01-13T04:00:48.578Z"
   },
   {
    "duration": 6,
    "start_time": "2022-01-13T04:00:48.602Z"
   },
   {
    "duration": 62,
    "start_time": "2022-01-13T04:00:48.611Z"
   },
   {
    "duration": 25,
    "start_time": "2022-01-13T04:00:48.676Z"
   },
   {
    "duration": 52,
    "start_time": "2022-01-13T04:00:48.707Z"
   },
   {
    "duration": 19,
    "start_time": "2022-01-13T04:00:48.763Z"
   },
   {
    "duration": 29,
    "start_time": "2022-01-13T04:00:48.784Z"
   },
   {
    "duration": 51,
    "start_time": "2022-01-13T04:00:48.816Z"
   },
   {
    "duration": 11,
    "start_time": "2022-01-13T04:00:48.869Z"
   },
   {
    "duration": 30,
    "start_time": "2022-01-13T04:00:48.882Z"
   },
   {
    "duration": 48,
    "start_time": "2022-01-13T04:00:48.914Z"
   },
   {
    "duration": 5,
    "start_time": "2022-01-13T04:00:48.964Z"
   },
   {
    "duration": 30,
    "start_time": "2022-01-13T04:00:48.971Z"
   },
   {
    "duration": 17,
    "start_time": "2022-01-13T04:00:49.003Z"
   },
   {
    "duration": 51,
    "start_time": "2022-01-13T04:00:49.022Z"
   },
   {
    "duration": 17,
    "start_time": "2022-01-13T04:00:49.076Z"
   },
   {
    "duration": 13,
    "start_time": "2022-01-13T04:00:49.095Z"
   },
   {
    "duration": 7,
    "start_time": "2022-01-13T04:00:49.110Z"
   },
   {
    "duration": 43,
    "start_time": "2022-01-13T04:00:49.119Z"
   },
   {
    "duration": 6,
    "start_time": "2022-01-13T04:00:49.164Z"
   },
   {
    "duration": 58,
    "start_time": "2022-01-13T04:01:14.819Z"
   },
   {
    "duration": 57,
    "start_time": "2022-01-13T04:01:32.469Z"
   },
   {
    "duration": 57,
    "start_time": "2022-01-13T04:01:54.023Z"
   },
   {
    "duration": 16,
    "start_time": "2022-01-13T04:02:34.573Z"
   },
   {
    "duration": 566,
    "start_time": "2022-01-13T10:36:45.157Z"
   },
   {
    "duration": 117,
    "start_time": "2022-01-13T10:36:45.725Z"
   },
   {
    "duration": 17,
    "start_time": "2022-01-13T10:36:45.844Z"
   },
   {
    "duration": 22,
    "start_time": "2022-01-13T10:36:45.863Z"
   },
   {
    "duration": 5,
    "start_time": "2022-01-13T10:36:45.886Z"
   },
   {
    "duration": 17,
    "start_time": "2022-01-13T10:36:45.912Z"
   },
   {
    "duration": 6,
    "start_time": "2022-01-13T10:36:45.931Z"
   },
   {
    "duration": 23,
    "start_time": "2022-01-13T10:36:45.939Z"
   },
   {
    "duration": 15,
    "start_time": "2022-01-13T10:36:45.964Z"
   },
   {
    "duration": 47,
    "start_time": "2022-01-13T10:36:45.980Z"
   },
   {
    "duration": 53,
    "start_time": "2022-01-13T10:36:46.028Z"
   },
   {
    "duration": 77,
    "start_time": "2022-01-13T10:36:46.083Z"
   },
   {
    "duration": 58,
    "start_time": "2022-01-13T10:36:46.162Z"
   },
   {
    "duration": 36,
    "start_time": "2022-01-13T10:36:46.222Z"
   },
   {
    "duration": 2,
    "start_time": "2022-01-13T10:36:46.260Z"
   },
   {
    "duration": 15,
    "start_time": "2022-01-13T10:36:46.264Z"
   },
   {
    "duration": 63,
    "start_time": "2022-01-13T10:36:46.281Z"
   },
   {
    "duration": 11,
    "start_time": "2022-01-13T10:36:46.346Z"
   },
   {
    "duration": 9,
    "start_time": "2022-01-13T10:36:46.358Z"
   },
   {
    "duration": 3,
    "start_time": "2022-01-13T10:36:46.368Z"
   },
   {
    "duration": 40,
    "start_time": "2022-01-13T10:36:46.372Z"
   },
   {
    "duration": 12,
    "start_time": "2022-01-13T10:36:46.413Z"
   },
   {
    "duration": 13,
    "start_time": "2022-01-13T10:36:46.427Z"
   },
   {
    "duration": 11,
    "start_time": "2022-01-13T10:36:46.442Z"
   },
   {
    "duration": 13,
    "start_time": "2022-01-13T10:36:46.455Z"
   },
   {
    "duration": 44,
    "start_time": "2022-01-13T10:36:46.470Z"
   },
   {
    "duration": 7,
    "start_time": "2022-01-13T10:36:46.516Z"
   },
   {
    "duration": 22,
    "start_time": "2022-01-13T10:36:46.524Z"
   },
   {
    "duration": 7,
    "start_time": "2022-01-13T10:36:46.548Z"
   },
   {
    "duration": 4,
    "start_time": "2022-01-13T10:36:46.556Z"
   },
   {
    "duration": 19,
    "start_time": "2022-01-13T10:36:46.562Z"
   },
   {
    "duration": 33,
    "start_time": "2022-01-13T10:36:46.583Z"
   },
   {
    "duration": 16,
    "start_time": "2022-01-13T10:36:46.617Z"
   },
   {
    "duration": 10,
    "start_time": "2022-01-13T10:36:46.635Z"
   },
   {
    "duration": 9,
    "start_time": "2022-01-13T10:36:46.647Z"
   },
   {
    "duration": 5,
    "start_time": "2022-01-13T10:36:46.657Z"
   },
   {
    "duration": 8,
    "start_time": "2022-01-13T10:36:46.663Z"
   },
   {
    "duration": 40,
    "start_time": "2022-01-13T10:36:46.672Z"
   },
   {
    "duration": 574,
    "start_time": "2022-01-13T10:39:45.517Z"
   },
   {
    "duration": 120,
    "start_time": "2022-01-13T10:39:46.093Z"
   },
   {
    "duration": 16,
    "start_time": "2022-01-13T10:39:46.215Z"
   },
   {
    "duration": 24,
    "start_time": "2022-01-13T10:39:46.232Z"
   },
   {
    "duration": 4,
    "start_time": "2022-01-13T10:39:46.258Z"
   },
   {
    "duration": 19,
    "start_time": "2022-01-13T10:39:46.263Z"
   },
   {
    "duration": 29,
    "start_time": "2022-01-13T10:39:46.284Z"
   },
   {
    "duration": 20,
    "start_time": "2022-01-13T10:39:46.315Z"
   },
   {
    "duration": 15,
    "start_time": "2022-01-13T10:39:46.337Z"
   },
   {
    "duration": 20,
    "start_time": "2022-01-13T10:39:46.353Z"
   },
   {
    "duration": 79,
    "start_time": "2022-01-13T10:39:46.374Z"
   },
   {
    "duration": 67,
    "start_time": "2022-01-13T10:39:46.454Z"
   },
   {
    "duration": 45,
    "start_time": "2022-01-13T10:39:46.522Z"
   },
   {
    "duration": 49,
    "start_time": "2022-01-13T10:39:46.568Z"
   },
   {
    "duration": 3,
    "start_time": "2022-01-13T10:39:46.619Z"
   },
   {
    "duration": 15,
    "start_time": "2022-01-13T10:39:46.624Z"
   },
   {
    "duration": 39,
    "start_time": "2022-01-13T10:39:46.641Z"
   },
   {
    "duration": 37,
    "start_time": "2022-01-13T10:39:46.681Z"
   },
   {
    "duration": 11,
    "start_time": "2022-01-13T10:39:46.719Z"
   },
   {
    "duration": 4,
    "start_time": "2022-01-13T10:39:46.732Z"
   },
   {
    "duration": 15,
    "start_time": "2022-01-13T10:39:46.738Z"
   },
   {
    "duration": 13,
    "start_time": "2022-01-13T10:39:46.755Z"
   },
   {
    "duration": 49,
    "start_time": "2022-01-13T10:39:46.772Z"
   },
   {
    "duration": 13,
    "start_time": "2022-01-13T10:39:46.824Z"
   },
   {
    "duration": 15,
    "start_time": "2022-01-13T10:39:46.838Z"
   },
   {
    "duration": 13,
    "start_time": "2022-01-13T10:39:46.855Z"
   },
   {
    "duration": 9,
    "start_time": "2022-01-13T10:39:46.869Z"
   },
   {
    "duration": 19,
    "start_time": "2022-01-13T10:39:46.912Z"
   },
   {
    "duration": 9,
    "start_time": "2022-01-13T10:39:46.932Z"
   },
   {
    "duration": 3,
    "start_time": "2022-01-13T10:39:46.943Z"
   },
   {
    "duration": 18,
    "start_time": "2022-01-13T10:39:46.948Z"
   },
   {
    "duration": 11,
    "start_time": "2022-01-13T10:39:46.968Z"
   },
   {
    "duration": 46,
    "start_time": "2022-01-13T10:39:46.980Z"
   },
   {
    "duration": 12,
    "start_time": "2022-01-13T10:39:47.027Z"
   },
   {
    "duration": 8,
    "start_time": "2022-01-13T10:39:47.041Z"
   },
   {
    "duration": 4,
    "start_time": "2022-01-13T10:39:47.050Z"
   },
   {
    "duration": 7,
    "start_time": "2022-01-13T10:39:47.056Z"
   },
   {
    "duration": 7,
    "start_time": "2022-01-13T10:39:47.064Z"
   }
  ],
  "colab": {
   "collapsed_sections": [
    "E0vqbgi9ay0H",
    "VUC88oWjTJw2"
   ],
   "name": "yandex_music_project_2021.2.ipynb",
   "provenance": []
  },
  "kernelspec": {
   "display_name": "Python 3 (ipykernel)",
   "language": "python",
   "name": "python3"
  },
  "language_info": {
   "codemirror_mode": {
    "name": "ipython",
    "version": 3
   },
   "file_extension": ".py",
   "mimetype": "text/x-python",
   "name": "python",
   "nbconvert_exporter": "python",
   "pygments_lexer": "ipython3",
   "version": "3.9.5"
  },
  "toc": {
   "base_numbering": 1,
   "nav_menu": {},
   "number_sections": true,
   "sideBar": true,
   "skip_h1_title": true,
   "title_cell": "Table of Contents",
   "title_sidebar": "Contents",
   "toc_cell": false,
   "toc_position": {},
   "toc_section_display": true,
   "toc_window_display": true
  }
 },
 "nbformat": 4,
 "nbformat_minor": 1
}
